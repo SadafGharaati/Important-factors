{
 "cells": [
  {
   "cell_type": "code",
   "execution_count": 18,
   "metadata": {},
   "outputs": [],
   "source": [
    "import numpy as np\n",
    "import pandas as pd\n",
    "import seaborn as sns\n",
    "import matplotlib.pyplot as plt\n",
    "from sklearn.model_selection import train_test_split"
   ]
  },
  {
   "cell_type": "code",
   "execution_count": 40,
   "metadata": {},
   "outputs": [],
   "source": [
    "#import data\n",
    "Data=pd.read_csv(\"Winnipeg-Transfomed-Data-BS-NoBreak - Copy.csv\")"
   ]
  },
  {
   "cell_type": "code",
   "execution_count": 41,
   "metadata": {},
   "outputs": [
    {
     "data": {
      "text/html": [
       "<div>\n",
       "<style scoped>\n",
       "    .dataframe tbody tr th:only-of-type {\n",
       "        vertical-align: middle;\n",
       "    }\n",
       "\n",
       "    .dataframe tbody tr th {\n",
       "        vertical-align: top;\n",
       "    }\n",
       "\n",
       "    .dataframe thead th {\n",
       "        text-align: right;\n",
       "    }\n",
       "</style>\n",
       "<table border=\"1\" class=\"dataframe\">\n",
       "  <thead>\n",
       "    <tr style=\"text-align: right;\">\n",
       "      <th></th>\n",
       "      <th>Age</th>\n",
       "      <th>Diameter</th>\n",
       "      <th>Material</th>\n",
       "      <th>FailureMonth</th>\n",
       "      <th>Status</th>\n",
       "      <th>CoatingMaterial</th>\n",
       "      <th>BreakStatus</th>\n",
       "    </tr>\n",
       "  </thead>\n",
       "  <tbody>\n",
       "    <tr>\n",
       "      <th>Age</th>\n",
       "      <td>1.000000</td>\n",
       "      <td>0.025858</td>\n",
       "      <td>0.750723</td>\n",
       "      <td>0.020649</td>\n",
       "      <td>0.039652</td>\n",
       "      <td>0.006222</td>\n",
       "      <td>0.257246</td>\n",
       "    </tr>\n",
       "    <tr>\n",
       "      <th>Diameter</th>\n",
       "      <td>0.025858</td>\n",
       "      <td>1.000000</td>\n",
       "      <td>0.053417</td>\n",
       "      <td>0.015558</td>\n",
       "      <td>0.015430</td>\n",
       "      <td>0.002926</td>\n",
       "      <td>0.124812</td>\n",
       "    </tr>\n",
       "    <tr>\n",
       "      <th>Material</th>\n",
       "      <td>0.750723</td>\n",
       "      <td>0.053417</td>\n",
       "      <td>1.000000</td>\n",
       "      <td>0.061479</td>\n",
       "      <td>0.054631</td>\n",
       "      <td>0.005086</td>\n",
       "      <td>0.582236</td>\n",
       "    </tr>\n",
       "    <tr>\n",
       "      <th>FailureMonth</th>\n",
       "      <td>0.020649</td>\n",
       "      <td>0.015558</td>\n",
       "      <td>0.061479</td>\n",
       "      <td>1.000000</td>\n",
       "      <td>0.001909</td>\n",
       "      <td>0.003341</td>\n",
       "      <td>0.104932</td>\n",
       "    </tr>\n",
       "    <tr>\n",
       "      <th>Status</th>\n",
       "      <td>0.039652</td>\n",
       "      <td>0.015430</td>\n",
       "      <td>0.054631</td>\n",
       "      <td>0.001909</td>\n",
       "      <td>1.000000</td>\n",
       "      <td>0.002647</td>\n",
       "      <td>0.013446</td>\n",
       "    </tr>\n",
       "    <tr>\n",
       "      <th>CoatingMaterial</th>\n",
       "      <td>0.006222</td>\n",
       "      <td>0.002926</td>\n",
       "      <td>0.005086</td>\n",
       "      <td>0.003341</td>\n",
       "      <td>0.002647</td>\n",
       "      <td>1.000000</td>\n",
       "      <td>0.001502</td>\n",
       "    </tr>\n",
       "    <tr>\n",
       "      <th>BreakStatus</th>\n",
       "      <td>0.257246</td>\n",
       "      <td>0.124812</td>\n",
       "      <td>0.582236</td>\n",
       "      <td>0.104932</td>\n",
       "      <td>0.013446</td>\n",
       "      <td>0.001502</td>\n",
       "      <td>1.000000</td>\n",
       "    </tr>\n",
       "  </tbody>\n",
       "</table>\n",
       "</div>"
      ],
      "text/plain": [
       "                      Age  Diameter  Material  FailureMonth    Status  \\\n",
       "Age              1.000000  0.025858  0.750723      0.020649  0.039652   \n",
       "Diameter         0.025858  1.000000  0.053417      0.015558  0.015430   \n",
       "Material         0.750723  0.053417  1.000000      0.061479  0.054631   \n",
       "FailureMonth     0.020649  0.015558  0.061479      1.000000  0.001909   \n",
       "Status           0.039652  0.015430  0.054631      0.001909  1.000000   \n",
       "CoatingMaterial  0.006222  0.002926  0.005086      0.003341  0.002647   \n",
       "BreakStatus      0.257246  0.124812  0.582236      0.104932  0.013446   \n",
       "\n",
       "                 CoatingMaterial  BreakStatus  \n",
       "Age                     0.006222     0.257246  \n",
       "Diameter                0.002926     0.124812  \n",
       "Material                0.005086     0.582236  \n",
       "FailureMonth            0.003341     0.104932  \n",
       "Status                  0.002647     0.013446  \n",
       "CoatingMaterial         1.000000     0.001502  \n",
       "BreakStatus             0.001502     1.000000  "
      ]
     },
     "execution_count": 41,
     "metadata": {},
     "output_type": "execute_result"
    }
   ],
   "source": [
    "# Make correlation matrix\n",
    "corr_matrix = Data.corr(method = \"spearman\").abs()\n",
    "corr_matrix"
   ]
  },
  {
   "cell_type": "code",
   "execution_count": 42,
   "metadata": {},
   "outputs": [],
   "source": [
    "corr_matrix.to_csv(\"C:/Users/sgharaa/Desktop/Correlation/BreakStatus/Winnipeg.csv\")"
   ]
  },
  {
   "cell_type": "code",
   "execution_count": null,
   "metadata": {},
   "outputs": [],
   "source": []
  },
  {
   "cell_type": "code",
   "execution_count": null,
   "metadata": {},
   "outputs": [],
   "source": []
  }
 ],
 "metadata": {
  "kernelspec": {
   "display_name": "Python 3",
   "language": "python",
   "name": "python3"
  },
  "language_info": {
   "codemirror_mode": {
    "name": "ipython",
    "version": 3
   },
   "file_extension": ".py",
   "mimetype": "text/x-python",
   "name": "python",
   "nbconvert_exporter": "python",
   "pygments_lexer": "ipython3",
   "version": "3.8.5"
  }
 },
 "nbformat": 4,
 "nbformat_minor": 4
}
