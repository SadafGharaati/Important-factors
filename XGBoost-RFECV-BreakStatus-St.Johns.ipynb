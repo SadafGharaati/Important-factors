{
 "cells": [
  {
   "cell_type": "code",
   "execution_count": 1,
   "metadata": {},
   "outputs": [],
   "source": [
    "import numpy as np\n",
    "import pandas as pd\n",
    "import seaborn as sns\n",
    "import matplotlib.pyplot as plt\n",
    "from sklearn.feature_selection import RFECV,RFE\n",
    "from sklearn.model_selection import train_test_split, GridSearchCV, KFold,RandomizedSearchCV\n",
    "from sklearn.preprocessing import StandardScaler\n",
    "from sklearn.pipeline import Pipeline\n",
    "from sklearn import metrics\n",
    "from xgboost import XGBClassifier\n",
    "from sklearn.metrics import accuracy_score,f1_score\n",
    "import numpy as np\n",
    "from sklearn.metrics import make_scorer\n",
    "f1_score = make_scorer(f1_score)"
   ]
  },
  {
   "cell_type": "code",
   "execution_count": 2,
   "metadata": {},
   "outputs": [],
   "source": [
    "#import data\n",
    "Data=pd.read_csv(\"St.Johns-Transfomed-Data-BS-NoBreak.csv\")"
   ]
  },
  {
   "cell_type": "code",
   "execution_count": 3,
   "metadata": {},
   "outputs": [],
   "source": [
    "X = Data.iloc[:,:-1]\n",
    "y = Data.iloc[:,-1]"
   ]
  },
  {
   "cell_type": "code",
   "execution_count": 4,
   "metadata": {},
   "outputs": [],
   "source": [
    "#split test and training set. \n",
    "np.random.seed(60)\n",
    "X_train, X_test, y_train, y_test = train_test_split(X, y, test_size = 0.3,\n",
    "                                                    random_state = 1000)"
   ]
  },
  {
   "cell_type": "code",
   "execution_count": 5,
   "metadata": {},
   "outputs": [],
   "source": [
    "#Define estimator and model\n",
    "classifiers = {}\n",
    "classifiers.update({\"XGBoost\": XGBClassifier(random_state=1000,eval_metric=f1_score,use_label_encoder=False)})"
   ]
  },
  {
   "cell_type": "code",
   "execution_count": 6,
   "metadata": {},
   "outputs": [],
   "source": [
    "#Define range of hyperparameters for estimator\n",
    "np.random.seed(60)\n",
    "parameters = {}\n",
    "parameters.update({\"XGBoost\": {\"classifier__eta\":[0.001,0.01,0.02,0.1,0.25,0.5,1],\n",
    "                                    \"classifier__alpha\":[0.001,0.01,0.02,0.1],\n",
    "                                     \"classifier__min_child_weight\" : [0.001,0.01,0.02,0.1],\n",
    "                                    \"classifier__lambda\" :[0.001,0.01,0.02,0.1],\n",
    "                                     \"classifier__gamma\" :[0.001,0.01,0.02,0.1,0.25,0.5,1],\n",
    "                                     #\"classifier__max_depth\": [1,2,3,4,5,6,7,8,9,10,11,12,13,14,15,16,17,18,1920]\n",
    "                                    \n",
    "}})\n"
   ]
  },
  {
   "cell_type": "code",
   "execution_count": 7,
   "metadata": {},
   "outputs": [
    {
     "data": {
      "image/png": "[encoded data removed]",
      "text/plain": [
       "<Figure size 792x648 with 2 Axes>"
      ]
     },
     "metadata": {},
     "output_type": "display_data"
    }
   ],
   "source": [
    "# Make correlation matrix\n",
    "corr_matrix = X_train.corr(method = \"spearman\").abs()\n",
    "\n",
    "# Draw the heatmap\n",
    "sns.set(font_scale = 1.0)\n",
    "f, ax = plt.subplots(figsize=(11, 9))\n",
    "sns.heatmap(corr_matrix, cmap= \"YlGnBu\", square=True, ax = ax)\n",
    "f.tight_layout()\n",
    "plt.savefig(\"correlation_matrix.png\", dpi = 1080)\n",
    "\n",
    "# Select upper triangle of matrix\n",
    "upper = corr_matrix.where(np.triu(np.ones(corr_matrix.shape), k = 1).astype(np.bool))\n",
    "\n",
    "# Find index of feature columns with correlation greater than 0.8\n",
    "to_drop = [column for column in upper.columns if any(upper[column] > 0.8)]\n",
    "\n",
    "# Drop features\n",
    "X_train = X_train.drop(to_drop, axis = 1)\n",
    "X_test = X_test.drop(to_drop, axis = 1)"
   ]
  },
  {
   "cell_type": "code",
   "execution_count": 8,
   "metadata": {},
   "outputs": [
    {
     "data": {
      "text/html": [
       "<div>\n",
       "<style scoped>\n",
       "    .dataframe tbody tr th:only-of-type {\n",
       "        vertical-align: middle;\n",
       "    }\n",
       "\n",
       "    .dataframe tbody tr th {\n",
       "        vertical-align: top;\n",
       "    }\n",
       "\n",
       "    .dataframe thead th {\n",
       "        text-align: right;\n",
       "    }\n",
       "</style>\n",
       "<table border=\"1\" class=\"dataframe\">\n",
       "  <thead>\n",
       "    <tr style=\"text-align: right;\">\n",
       "      <th></th>\n",
       "      <th>Diameter</th>\n",
       "      <th>Roughness</th>\n",
       "      <th>Length</th>\n",
       "      <th>Age</th>\n",
       "      <th>Material</th>\n",
       "      <th>FailureMonth</th>\n",
       "    </tr>\n",
       "  </thead>\n",
       "  <tbody>\n",
       "    <tr>\n",
       "      <th>7531</th>\n",
       "      <td>150</td>\n",
       "      <td>50</td>\n",
       "      <td>88.704270</td>\n",
       "      <td>56</td>\n",
       "      <td>7.338961</td>\n",
       "      <td>6.395223</td>\n",
       "    </tr>\n",
       "    <tr>\n",
       "      <th>6703</th>\n",
       "      <td>50</td>\n",
       "      <td>50</td>\n",
       "      <td>71.540515</td>\n",
       "      <td>61</td>\n",
       "      <td>7.338961</td>\n",
       "      <td>5.981987</td>\n",
       "    </tr>\n",
       "    <tr>\n",
       "      <th>893</th>\n",
       "      <td>200</td>\n",
       "      <td>120</td>\n",
       "      <td>55.217379</td>\n",
       "      <td>34</td>\n",
       "      <td>2.093086</td>\n",
       "      <td>7.582193</td>\n",
       "    </tr>\n",
       "    <tr>\n",
       "      <th>8457</th>\n",
       "      <td>150</td>\n",
       "      <td>50</td>\n",
       "      <td>56.977381</td>\n",
       "      <td>40</td>\n",
       "      <td>7.338961</td>\n",
       "      <td>26.477088</td>\n",
       "    </tr>\n",
       "    <tr>\n",
       "      <th>719</th>\n",
       "      <td>200</td>\n",
       "      <td>120</td>\n",
       "      <td>18.888050</td>\n",
       "      <td>36</td>\n",
       "      <td>2.093086</td>\n",
       "      <td>6.626810</td>\n",
       "    </tr>\n",
       "    <tr>\n",
       "      <th>...</th>\n",
       "      <td>...</td>\n",
       "      <td>...</td>\n",
       "      <td>...</td>\n",
       "      <td>...</td>\n",
       "      <td>...</td>\n",
       "      <td>...</td>\n",
       "    </tr>\n",
       "    <tr>\n",
       "      <th>769</th>\n",
       "      <td>200</td>\n",
       "      <td>120</td>\n",
       "      <td>144.912095</td>\n",
       "      <td>36</td>\n",
       "      <td>2.093086</td>\n",
       "      <td>5.981987</td>\n",
       "    </tr>\n",
       "    <tr>\n",
       "      <th>2398</th>\n",
       "      <td>300</td>\n",
       "      <td>120</td>\n",
       "      <td>64.437342</td>\n",
       "      <td>41</td>\n",
       "      <td>2.093086</td>\n",
       "      <td>5.528770</td>\n",
       "    </tr>\n",
       "    <tr>\n",
       "      <th>3776</th>\n",
       "      <td>300</td>\n",
       "      <td>120</td>\n",
       "      <td>49.331079</td>\n",
       "      <td>9</td>\n",
       "      <td>3.640551</td>\n",
       "      <td>5.931834</td>\n",
       "    </tr>\n",
       "    <tr>\n",
       "      <th>6215</th>\n",
       "      <td>300</td>\n",
       "      <td>110</td>\n",
       "      <td>46.492852</td>\n",
       "      <td>58</td>\n",
       "      <td>7.338961</td>\n",
       "      <td>6.395223</td>\n",
       "    </tr>\n",
       "    <tr>\n",
       "      <th>4695</th>\n",
       "      <td>150</td>\n",
       "      <td>120</td>\n",
       "      <td>2.969078</td>\n",
       "      <td>91</td>\n",
       "      <td>7.338961</td>\n",
       "      <td>5.199038</td>\n",
       "    </tr>\n",
       "  </tbody>\n",
       "</table>\n",
       "<p>6596 rows × 6 columns</p>\n",
       "</div>"
      ],
      "text/plain": [
       "      Diameter  Roughness      Length  Age  Material  FailureMonth\n",
       "7531       150         50   88.704270   56  7.338961      6.395223\n",
       "6703        50         50   71.540515   61  7.338961      5.981987\n",
       "893        200        120   55.217379   34  2.093086      7.582193\n",
       "8457       150         50   56.977381   40  7.338961     26.477088\n",
       "719        200        120   18.888050   36  2.093086      6.626810\n",
       "...        ...        ...         ...  ...       ...           ...\n",
       "769        200        120  144.912095   36  2.093086      5.981987\n",
       "2398       300        120   64.437342   41  2.093086      5.528770\n",
       "3776       300        120   49.331079    9  3.640551      5.931834\n",
       "6215       300        110   46.492852   58  7.338961      6.395223\n",
       "4695       150        120    2.969078   91  7.338961      5.199038\n",
       "\n",
       "[6596 rows x 6 columns]"
      ]
     },
     "execution_count": 8,
     "metadata": {},
     "output_type": "execute_result"
    }
   ],
   "source": [
    "X_train"
   ]
  },
  {
   "cell_type": "code",
   "execution_count": 9,
   "metadata": {},
   "outputs": [],
   "source": [
    "FEATURE_IMPORTANCE = {\"XGBoost\"}\n",
    "selected_classifier = \"XGBoost\"\n",
    "classifier = classifiers[selected_classifier]"
   ]
  },
  {
   "cell_type": "code",
   "execution_count": 10,
   "metadata": {},
   "outputs": [],
   "source": [
    "scaler = StandardScaler()\n",
    "steps = [(\"scaler\", scaler), (\"classifier\", classifier)]\n",
    "pipeline = Pipeline(steps = steps)"
   ]
  },
  {
   "cell_type": "code",
   "execution_count": 11,
   "metadata": {},
   "outputs": [],
   "source": [
    "#Define parameters that we want to use in gridsearch cv\n",
    "param_grid = parameters[selected_classifier]"
   ]
  },
  {
   "cell_type": "code",
   "execution_count": 12,
   "metadata": {},
   "outputs": [],
   "source": [
    "# Initialize gridsearchCV object for estimator\n",
    "gscv =RandomizedSearchCV(pipeline, param_grid, cv = 3, n_jobs=-1, verbose = 3, scoring = f1_score, n_iter =10)"
   ]
  },
  {
   "cell_type": "code",
   "execution_count": 13,
   "metadata": {},
   "outputs": [
    {
     "name": "stdout",
     "output_type": "stream",
     "text": [
      "Now tuning XGBoost. Go grab a beer or something.\n",
      "Fitting 3 folds for each of 10 candidates, totalling 30 fits\n"
     ]
    },
    {
     "name": "stderr",
     "output_type": "stream",
     "text": [
      "[Parallel(n_jobs=-1)]: Using backend LokyBackend with 8 concurrent workers.\n",
      "[Parallel(n_jobs=-1)]: Done  26 out of  30 | elapsed:    8.2s remaining:    1.2s\n",
      "[Parallel(n_jobs=-1)]: Done  30 out of  30 | elapsed:    8.4s finished\n"
     ]
    },
    {
     "name": "stdout",
     "output_type": "stream",
     "text": [
      "[17:54:40] WARNING: C:/Users/Administrator/workspace/xgboost-win64_release_1.5.0/src/learner.cc:1115: Starting in XGBoost 1.3.0, the default evaluation metric used with the objective 'binary:logistic' was changed from 'error' to 'logloss'. Explicitly set eval_metric if you'd like to restore the old behavior.\n"
     ]
    },
    {
     "data": {
      "text/plain": [
       "RandomizedSearchCV(cv=3,\n",
       "                   estimator=Pipeline(steps=[('scaler', StandardScaler()),\n",
       "                                             ('classifier',\n",
       "                                              XGBClassifier(base_score=None,\n",
       "                                                            booster=None,\n",
       "                                                            colsample_bylevel=None,\n",
       "                                                            colsample_bynode=None,\n",
       "                                                            colsample_bytree=None,\n",
       "                                                            enable_categorical=False,\n",
       "                                                            eval_metric=make_scorer(f1_score),\n",
       "                                                            gamma=None,\n",
       "                                                            gpu_id=None,\n",
       "                                                            importance_type=None,\n",
       "                                                            interaction_constraints=None,\n",
       "                                                            learning_rate=No...\n",
       "                                                            validate_parameters=None,\n",
       "                                                            verbosity=None))]),\n",
       "                   n_jobs=-1,\n",
       "                   param_distributions={'classifier__alpha': [0.001, 0.01, 0.02,\n",
       "                                                              0.1],\n",
       "                                        'classifier__eta': [0.001, 0.01, 0.02,\n",
       "                                                            0.1, 0.25, 0.5, 1],\n",
       "                                        'classifier__gamma': [0.001, 0.01, 0.02,\n",
       "                                                              0.1, 0.25, 0.5,\n",
       "                                                              1],\n",
       "                                        'classifier__lambda': [0.001, 0.01,\n",
       "                                                               0.02, 0.1],\n",
       "                                        'classifier__min_child_weight': [0.001,\n",
       "                                                                         0.01,\n",
       "                                                                         0.02,\n",
       "                                                                         0.1]},\n",
       "                   scoring=make_scorer(f1_score), verbose=3)"
      ]
     },
     "execution_count": 13,
     "metadata": {},
     "output_type": "execute_result"
    }
   ],
   "source": [
    "# Fit gscv (Tunes estimator)\n",
    "print(f\"Now tuning {selected_classifier}. Go grab a beer or something.\")\n",
    "gscv.fit(X_train, np.ravel(y_train))  "
   ]
  },
  {
   "cell_type": "code",
   "execution_count": 14,
   "metadata": {},
   "outputs": [
    {
     "data": {
      "text/plain": [
       "{'classifier__min_child_weight': 0.1,\n",
       " 'classifier__lambda': 0.001,\n",
       " 'classifier__gamma': 0.01,\n",
       " 'classifier__eta': 0.5,\n",
       " 'classifier__alpha': 0.02}"
      ]
     },
     "execution_count": 14,
     "metadata": {},
     "output_type": "execute_result"
    }
   ],
   "source": [
    "#Getting the best hyperparameters\n",
    "best_params = gscv.best_params_\n",
    "best_params"
   ]
  },
  {
   "cell_type": "code",
   "execution_count": 15,
   "metadata": {},
   "outputs": [
    {
     "data": {
      "text/plain": [
       "0.7794809603958335"
      ]
     },
     "execution_count": 15,
     "metadata": {},
     "output_type": "execute_result"
    }
   ],
   "source": [
    "#Getting the best score of model\n",
    "best_score = gscv.best_score_\n",
    "best_score"
   ]
  },
  {
   "cell_type": "code",
   "execution_count": 16,
   "metadata": {},
   "outputs": [
    {
     "name": "stderr",
     "output_type": "stream",
     "text": [
      "c:\\users\\sgharaa\\desktop\\sample_project2\\env\\lib\\site-packages\\xgboost\\sklearn.py:1224: UserWarning: The use of label encoder in XGBClassifier is deprecated and will be removed in a future release. To remove this warning, do the following: 1) Pass option use_label_encoder=False when constructing XGBClassifier object; and 2) Encode your labels (y) as integers starting with 0, i.e. 0, 1, 2, ..., [num_class - 1].\n",
      "  warnings.warn(label_encoder_deprecation_msg, UserWarning)\n"
     ]
    },
    {
     "data": {
      "text/plain": [
       "array([0.675     , 0.69333333, 0.68421053, 0.69879518, 0.77300613])"
      ]
     },
     "execution_count": 16,
     "metadata": {},
     "output_type": "execute_result"
    }
   ],
   "source": [
    "#Check overfitting of the estimator\n",
    "from sklearn.model_selection import cross_val_score\n",
    "mod = XGBClassifier(alpha=0.02,\n",
    "                    eta= 0.5,\n",
    "                    gamma= 0.01,\n",
    "                    reg_lambda=0.001,\n",
    "                     #max_Depth=7,\n",
    "                    min_child_weight=0.1,\n",
    "                    eval_metric='mlogloss',\n",
    "                    random_state=10000)\n",
    "\n",
    "scores_test = cross_val_score(mod, X_test, y_test, scoring='f1', cv=5)\n",
    "\n",
    "scores_test"
   ]
  },
  {
   "cell_type": "code",
   "execution_count": 17,
   "metadata": {},
   "outputs": [
    {
     "data": {
      "text/plain": [
       "XGBClassifier(alpha=0.02, base_score=None, booster=None, colsample_bylevel=None,\n",
       "              colsample_bynode=None, colsample_bytree=None,\n",
       "              enable_categorical=False, eta=0.5,\n",
       "              eval_metric=make_scorer(f1_score), gamma=0.01, gpu_id=None,\n",
       "              importance_type=None, interaction_constraints=None, lambda=0.001,\n",
       "              learning_rate=None, max_delta_step=None, max_depth=None,\n",
       "              min_child_weight=0.1, missing=nan, monotone_constraints=None,\n",
       "              n_estimators=100, n_jobs=None, num_parallel_tree=None,\n",
       "              predictor=None, random_state=1000, reg_alpha=None,\n",
       "              reg_lambda=None, scale_pos_weight=None, subsample=None,\n",
       "              tree_method=None, ...)"
      ]
     },
     "execution_count": 17,
     "metadata": {},
     "output_type": "execute_result"
    }
   ],
   "source": [
    "tuned_params = {item[12:]: best_params[item] for item in best_params}\n",
    "classifier.set_params(**tuned_params)"
   ]
  },
  {
   "cell_type": "code",
   "execution_count": 18,
   "metadata": {},
   "outputs": [
    {
     "data": {
      "text/plain": [
       "{'classifier': XGBClassifier(alpha=0.02, base_score=0.5, booster='gbtree', colsample_bylevel=1,\n",
       "               colsample_bynode=1, colsample_bytree=1, enable_categorical=False,\n",
       "               eta=0.5, eval_metric='mlogloss', gamma=0.01, gpu_id=-1,\n",
       "               importance_type=None, interaction_constraints='', lambda=0.001,\n",
       "               learning_rate=0.5, max_delta_step=0, max_depth=6,\n",
       "               min_child_weight=0.1, missing=nan, monotone_constraints='()',\n",
       "               n_estimators=100, n_jobs=8, num_parallel_tree=1, predictor='auto',\n",
       "               random_state=10000, reg_alpha=0.0199999996, reg_lambda=0.001,\n",
       "               scale_pos_weight=1, subsample=1, tree_method='exact', ...),\n",
       " 'Best Parameters': {'classifier__min_child_weight': 0.1,\n",
       "  'classifier__lambda': 0.001,\n",
       "  'classifier__gamma': 0.01,\n",
       "  'classifier__eta': 0.5,\n",
       "  'classifier__alpha': 0.02},\n",
       " 'Training f1': 77.94809603958335,\n",
       " 'Test f1': 78.41306884480747}"
      ]
     },
     "execution_count": 18,
     "metadata": {},
     "output_type": "execute_result"
    }
   ],
   "source": [
    "#Find f1 score of the model with all features (Model is tuned for all features)\n",
    "results={}\n",
    "model=classifier.set_params(alpha=0.02,\n",
    "                    eta= 0.5,\n",
    "                    gamma= 0.01,\n",
    "                    reg_lambda=0.001,\n",
    "                     #max_Depth=7,\n",
    "                    min_child_weight=0.1,\n",
    "                    eval_metric='mlogloss',\n",
    "                    random_state=10000)\n",
    "\n",
    "model.fit(X_train,y_train)\n",
    "y_pred = model.predict(X_test)\n",
    "F1 = metrics.f1_score(y_test, y_pred)\n",
    "results = {\"classifier\": model,\n",
    "              \"Best Parameters\": best_params,\n",
    "              \"Training f1\": best_score*100,\n",
    "              \"Test f1\": F1*100}\n",
    "results"
   ]
  },
  {
   "cell_type": "code",
   "execution_count": 19,
   "metadata": {},
   "outputs": [],
   "source": [
    "# Select Features using RFECV\n",
    "class PipelineRFE(Pipeline):\n",
    "    # Source: https://ramhiser.com/post/2018-03-25-feature-selection-with-scikit-learn-pipeline/\n",
    "    def fit(self, X, y=None, **fit_params):\n",
    "        super(PipelineRFE, self).fit(X, y, **fit_params)\n",
    "        self.feature_importances_ = self.steps[-1][-1].feature_importances_\n",
    "        return self"
   ]
  },
  {
   "cell_type": "code",
   "execution_count": 20,
   "metadata": {},
   "outputs": [
    {
     "name": "stdout",
     "output_type": "stream",
     "text": [
      "Fitting estimator with 6 features.\n",
      "Fitting estimator with 5 features.\n",
      "Fitting estimator with 4 features.\n",
      "Fitting estimator with 3 features.\n",
      "Fitting estimator with 2 features.\n",
      "Fitting estimator with 6 features.\n",
      "Fitting estimator with 5 features.\n",
      "Fitting estimator with 4 features.\n",
      "Fitting estimator with 3 features.\n",
      "Fitting estimator with 2 features.\n",
      "Fitting estimator with 6 features.\n",
      "Fitting estimator with 5 features.\n",
      "Fitting estimator with 4 features.\n",
      "Fitting estimator with 3 features.\n",
      "Fitting estimator with 2 features.\n",
      "Fitting estimator with 6 features.\n",
      "Fitting estimator with 5 features.\n",
      "Fitting estimator with 4 features.\n",
      "Fitting estimator with 3 features.\n",
      "Fitting estimator with 2 features.\n",
      "Fitting estimator with 6 features.\n",
      "Fitting estimator with 5 features.\n",
      "Fitting estimator with 4 features.\n",
      "Fitting estimator with 3 features.\n",
      "Fitting estimator with 2 features.\n"
     ]
    }
   ],
   "source": [
    "steps = [(\"scaler\", scaler), (\"classifier\", classifier)]\n",
    "pipe = PipelineRFE(steps = steps)\n",
    "np.random.seed(60)\n",
    "\n",
    "# Initialize RFECV object\n",
    "feature_selector = RFECV(pipe, cv = 5, step = 1, verbose = 3)\n",
    "\n",
    "# Fit RFECV\n",
    "feature_selector.fit(X_train, np.ravel(y_train))\n",
    "\n",
    "# Get selected features\n",
    "feature_names = X_train.columns\n",
    "selected_features = feature_names[feature_selector.support_].tolist()"
   ]
  },
  {
   "cell_type": "code",
   "execution_count": 21,
   "metadata": {},
   "outputs": [
    {
     "data": {
      "image/png": "[encoded data removed]",
      "text/plain": [
       "<Figure size 936x468 with 1 Axes>"
      ]
     },
     "metadata": {},
     "output_type": "display_data"
    }
   ],
   "source": [
    "performance_curve = {\"Number of Features\": list(range(1, len(feature_names) + 1)),\n",
    "                    \"F1\": feature_selector.grid_scores_}\n",
    "performance_curve = pd.DataFrame(performance_curve)\n",
    "\n",
    "# Performance vs Number of Features\n",
    "# Set graph style\n",
    "sns.set(font_scale = 1.75)\n",
    "sns.set_style({\"axes.facecolor\": \"1.0\", \"axes.edgecolor\": \"0.85\", \"grid.color\": \"0.85\",\n",
    "               \"grid.linestyle\": \"-\", 'axes.labelcolor': '0.4', \"xtick.color\": \"0.4\",\n",
    "               'ytick.color': '0.4'})\n",
    "colors = sns.color_palette(\"RdYlGn\", 20)\n",
    "line_color = colors[3]\n",
    "marker_colors = colors[-1]\n",
    "\n",
    "# Plot\n",
    "f, ax = plt.subplots(figsize=(13, 6.5))\n",
    "sns.lineplot(x = \"Number of Features\", y = \"F1\", data = performance_curve,\n",
    "             color = line_color, lw = 4, ax = ax)\n",
    "sns.regplot(x = performance_curve[\"Number of Features\"], y = performance_curve[\"F1\"],\n",
    "            color = marker_colors, fit_reg = False, scatter_kws = {\"s\": 200}, ax = ax)\n",
    "\n",
    "# Axes limits\n",
    "plt.xlim(0.5, len(feature_names)+0.5)\n",
    "plt.ylim(0.60, 1)\n",
    "\n",
    "# Generate a bolded horizontal line at y = 0\n",
    "ax.axhline(y = 0.625, color = 'black', linewidth = 1.3, alpha = .7)\n",
    "\n",
    "# Turn frame off\n",
    "ax.set_frame_on(False)\n",
    "\n",
    "# Tight layout\n",
    "plt.tight_layout()"
   ]
  },
  {
   "cell_type": "code",
   "execution_count": 22,
   "metadata": {},
   "outputs": [],
   "source": [
    "#Define new training and test set based based on selected features by RFECV\n",
    "X_train_rfecv = X_train[selected_features]\n",
    "X_test_rfecv= X_test[selected_features]"
   ]
  },
  {
   "cell_type": "code",
   "execution_count": 23,
   "metadata": {},
   "outputs": [
    {
     "data": {
      "text/plain": [
       "XGBClassifier(alpha=0.02, base_score=0.5, booster='gbtree', colsample_bylevel=1,\n",
       "              colsample_bynode=1, colsample_bytree=1, enable_categorical=False,\n",
       "              eta=0.5, eval_metric='mlogloss', gamma=0.01, gpu_id=-1,\n",
       "              importance_type=None, interaction_constraints='', lambda=0.001,\n",
       "              learning_rate=0.5, max_delta_step=0, max_depth=6,\n",
       "              min_child_weight=0.1, missing=nan, monotone_constraints='()',\n",
       "              n_estimators=100, n_jobs=8, num_parallel_tree=1, predictor='auto',\n",
       "              random_state=10000, reg_alpha=0.0199999996, reg_lambda=0.001,\n",
       "              scale_pos_weight=1, subsample=1, tree_method='exact', ...)"
      ]
     },
     "execution_count": 23,
     "metadata": {},
     "output_type": "execute_result"
    }
   ],
   "source": [
    "np.random.seed(60)\n",
    "classifier.fit(X_train_rfecv, np.ravel(y_train))"
   ]
  },
  {
   "cell_type": "code",
   "execution_count": 24,
   "metadata": {},
   "outputs": [
    {
     "data": {
      "text/html": [
       "<div>\n",
       "<style scoped>\n",
       "    .dataframe tbody tr th:only-of-type {\n",
       "        vertical-align: middle;\n",
       "    }\n",
       "\n",
       "    .dataframe tbody tr th {\n",
       "        vertical-align: top;\n",
       "    }\n",
       "\n",
       "    .dataframe thead th {\n",
       "        text-align: right;\n",
       "    }\n",
       "</style>\n",
       "<table border=\"1\" class=\"dataframe\">\n",
       "  <thead>\n",
       "    <tr style=\"text-align: right;\">\n",
       "      <th></th>\n",
       "      <th>Feature Label</th>\n",
       "      <th>Feature Importance</th>\n",
       "    </tr>\n",
       "  </thead>\n",
       "  <tbody>\n",
       "    <tr>\n",
       "      <th>4</th>\n",
       "      <td>Material</td>\n",
       "      <td>0.355922</td>\n",
       "    </tr>\n",
       "    <tr>\n",
       "      <th>1</th>\n",
       "      <td>Roughness</td>\n",
       "      <td>0.224545</td>\n",
       "    </tr>\n",
       "    <tr>\n",
       "      <th>5</th>\n",
       "      <td>FailureMonth</td>\n",
       "      <td>0.142561</td>\n",
       "    </tr>\n",
       "    <tr>\n",
       "      <th>3</th>\n",
       "      <td>Age</td>\n",
       "      <td>0.131002</td>\n",
       "    </tr>\n",
       "    <tr>\n",
       "      <th>2</th>\n",
       "      <td>Length</td>\n",
       "      <td>0.074591</td>\n",
       "    </tr>\n",
       "    <tr>\n",
       "      <th>0</th>\n",
       "      <td>Diameter</td>\n",
       "      <td>0.071379</td>\n",
       "    </tr>\n",
       "  </tbody>\n",
       "</table>\n",
       "</div>"
      ],
      "text/plain": [
       "  Feature Label  Feature Importance\n",
       "4      Material            0.355922\n",
       "1     Roughness            0.224545\n",
       "5  FailureMonth            0.142561\n",
       "3           Age            0.131002\n",
       "2        Length            0.074591\n",
       "0      Diameter            0.071379"
      ]
     },
     "execution_count": 24,
     "metadata": {},
     "output_type": "execute_result"
    }
   ],
   "source": [
    "#Finding important features\n",
    "np.random.seed(60)\n",
    "feature_importance = pd.DataFrame(selected_features, columns = [\"Feature Label\"])\n",
    "feature_importance[\"Feature Importance\"] = classifier.feature_importances_\n",
    "feature_importance = feature_importance.sort_values(by=\"Feature Importance\", ascending=False)\n",
    "feature_importance"
   ]
  },
  {
   "cell_type": "code",
   "execution_count": 25,
   "metadata": {},
   "outputs": [],
   "source": [
    "# Initialize GridSearch object for model with selected features\n",
    "np.random.seed(60)\n",
    "gscv = RandomizedSearchCV(pipeline, param_grid, cv = 3,  n_jobs= -1, verbose = 3, scoring = f1_score, n_iter=50)"
   ]
  },
  {
   "cell_type": "code",
   "execution_count": 26,
   "metadata": {},
   "outputs": [
    {
     "name": "stdout",
     "output_type": "stream",
     "text": [
      "Fitting 3 folds for each of 50 candidates, totalling 150 fits\n"
     ]
    },
    {
     "name": "stderr",
     "output_type": "stream",
     "text": [
      "[Parallel(n_jobs=-1)]: Using backend LokyBackend with 8 concurrent workers.\n",
      "[Parallel(n_jobs=-1)]: Done  16 tasks      | elapsed:    2.3s\n",
      "[Parallel(n_jobs=-1)]: Done 112 tasks      | elapsed:   25.2s\n",
      "[Parallel(n_jobs=-1)]: Done 150 out of 150 | elapsed:   34.2s finished\n"
     ]
    },
    {
     "data": {
      "text/plain": [
       "RandomizedSearchCV(cv=3,\n",
       "                   estimator=Pipeline(steps=[('scaler', StandardScaler()),\n",
       "                                             ('classifier',\n",
       "                                              XGBClassifier(alpha=0.02,\n",
       "                                                            base_score=0.5,\n",
       "                                                            booster='gbtree',\n",
       "                                                            colsample_bylevel=1,\n",
       "                                                            colsample_bynode=1,\n",
       "                                                            colsample_bytree=1,\n",
       "                                                            enable_categorical=False,\n",
       "                                                            eta=0.5,\n",
       "                                                            eval_metric='mlogloss',\n",
       "                                                            gamma=0.01,\n",
       "                                                            gpu_id=-1,\n",
       "                                                            importance_type=None,\n",
       "                                                            interaction_constraints='',\n",
       "                                                            lambda=0.001,\n",
       "                                                            learn...\n",
       "                                                            tree_method='exact', ...))]),\n",
       "                   n_iter=50, n_jobs=-1,\n",
       "                   param_distributions={'classifier__alpha': [0.001, 0.01, 0.02,\n",
       "                                                              0.1],\n",
       "                                        'classifier__eta': [0.001, 0.01, 0.02,\n",
       "                                                            0.1, 0.25, 0.5, 1],\n",
       "                                        'classifier__gamma': [0.001, 0.01, 0.02,\n",
       "                                                              0.1, 0.25, 0.5,\n",
       "                                                              1],\n",
       "                                        'classifier__lambda': [0.001, 0.01,\n",
       "                                                               0.02, 0.1],\n",
       "                                        'classifier__min_child_weight': [0.001,\n",
       "                                                                         0.01,\n",
       "                                                                         0.02,\n",
       "                                                                         0.1]},\n",
       "                   scoring=make_scorer(f1_score), verbose=3)"
      ]
     },
     "execution_count": 26,
     "metadata": {},
     "output_type": "execute_result"
    }
   ],
   "source": [
    "#Tuning random forest classifier with selected features \n",
    "np.random.seed(60)\n",
    "gscv.fit(X_train_rfecv,y_train) "
   ]
  },
  {
   "cell_type": "code",
   "execution_count": 27,
   "metadata": {},
   "outputs": [
    {
     "data": {
      "text/plain": [
       "{'classifier__min_child_weight': 0.1,\n",
       " 'classifier__lambda': 0.001,\n",
       " 'classifier__gamma': 0.1,\n",
       " 'classifier__eta': 1,\n",
       " 'classifier__alpha': 0.01}"
      ]
     },
     "execution_count": 27,
     "metadata": {},
     "output_type": "execute_result"
    }
   ],
   "source": [
    "#Getting the best parameters of model with selected features\n",
    "best_params = gscv.best_params_\n",
    "best_params"
   ]
  },
  {
   "cell_type": "code",
   "execution_count": 28,
   "metadata": {},
   "outputs": [
    {
     "data": {
      "text/plain": [
       "0.7882071670439434"
      ]
     },
     "execution_count": 28,
     "metadata": {},
     "output_type": "execute_result"
    }
   ],
   "source": [
    "#Getting the score of model with selected features\n",
    "best_score = gscv.best_score_\n",
    "best_score"
   ]
  },
  {
   "cell_type": "code",
   "execution_count": 29,
   "metadata": {},
   "outputs": [
    {
     "name": "stderr",
     "output_type": "stream",
     "text": [
      "c:\\users\\sgharaa\\desktop\\sample_project2\\env\\lib\\site-packages\\xgboost\\sklearn.py:1224: UserWarning: The use of label encoder in XGBClassifier is deprecated and will be removed in a future release. To remove this warning, do the following: 1) Pass option use_label_encoder=False when constructing XGBClassifier object; and 2) Encode your labels (y) as integers starting with 0, i.e. 0, 1, 2, ..., [num_class - 1].\n",
      "  warnings.warn(label_encoder_deprecation_msg, UserWarning)\n"
     ]
    },
    {
     "data": {
      "text/plain": [
       "array([0.69090909, 0.64670659, 0.69090909, 0.6626506 , 0.73493976])"
      ]
     },
     "execution_count": 29,
     "metadata": {},
     "output_type": "execute_result"
    }
   ],
   "source": [
    "#Check overfitting of the  tuned model with selected features \n",
    "from sklearn.model_selection import cross_val_score\n",
    "mod = XGBClassifier(alpha=0.01, \n",
    "                    eta=1,\n",
    "                    gamma=0.1,\n",
    "                    reg_lambda=0.001,\n",
    "                    #max_depth=4,\n",
    "                    min_child_weight=0.1,\n",
    "                    eval_metric='mlogloss',\n",
    "                    random_state=10000)\n",
    "\n",
    "scores_test = cross_val_score(mod, X_test_rfecv, y_test, scoring='f1', cv=5)\n",
    "\n",
    "scores_test"
   ]
  },
  {
   "cell_type": "code",
   "execution_count": 30,
   "metadata": {},
   "outputs": [
    {
     "data": {
      "text/plain": [
       "{'classifier': XGBClassifier(alpha=0.01, base_score=0.5, booster='gbtree', colsample_bylevel=1,\n",
       "               colsample_bynode=1, colsample_bytree=1, enable_categorical=False,\n",
       "               eta=1, eval_metric='mlogloss', gamma=0.1, gpu_id=-1,\n",
       "               importance_type=None, interaction_constraints='', lambda=0.001,\n",
       "               learning_rate=0.5, max_delta_step=0, max_depth=6,\n",
       "               min_child_weight=0.1, missing=nan, monotone_constraints='()',\n",
       "               n_estimators=100, n_jobs=8, num_parallel_tree=1, predictor='auto',\n",
       "               random_state=10000, reg_alpha=0.0199999996, reg_lambda=0.001,\n",
       "               scale_pos_weight=1, subsample=1, tree_method='exact', ...),\n",
       " 'Best Parameters': {'classifier__min_child_weight': 0.1,\n",
       "  'classifier__lambda': 0.001,\n",
       "  'classifier__gamma': 0.1,\n",
       "  'classifier__eta': 1,\n",
       "  'classifier__alpha': 0.01},\n",
       " 'Training f1': 78.82071670439434,\n",
       " 'Test f1': 77.59433962264151}"
      ]
     },
     "execution_count": 30,
     "metadata": {},
     "output_type": "execute_result"
    }
   ],
   "source": [
    "results={}\n",
    "model=classifier.set_params(alpha=0.01, \n",
    "                    eta=1,\n",
    "                    gamma=0.1,\n",
    "                    reg_lambda=0.001,\n",
    "                    #max_depth=4,\n",
    "                    min_child_weight=0.1,\n",
    "                    eval_metric='mlogloss',\n",
    "                    random_state=10000)\n",
    "model.fit(X_train_rfecv,y_train)\n",
    "y_pred = model.predict(X_test_rfecv)\n",
    "F1 = metrics.f1_score(y_test, y_pred)\n",
    "results = {\"classifier\": model,\n",
    "              \"Best Parameters\": best_params,\n",
    "              \"Training f1\": best_score*100,\n",
    "              \"Test f1\": F1*100}\n",
    "results"
   ]
  },
  {
   "cell_type": "code",
   "execution_count": null,
   "metadata": {},
   "outputs": [],
   "source": []
  }
 ],
 "metadata": {
  "kernelspec": {
   "display_name": "Python 3",
   "language": "python",
   "name": "python3"
  },
  "language_info": {
   "codemirror_mode": {
    "name": "ipython",
    "version": 3
   },
   "file_extension": ".py",
   "mimetype": "text/x-python",
   "name": "python",
   "nbconvert_exporter": "python",
   "pygments_lexer": "ipython3",
   "version": "3.8.5"
  }
 },
 "nbformat": 4,
 "nbformat_minor": 4
}
