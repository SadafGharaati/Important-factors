{
 "cells": [
  {
   "cell_type": "code",
   "execution_count": 221,
   "metadata": {},
   "outputs": [],
   "source": [
    "import numpy as np\n",
    "import pandas as pd\n",
    "import seaborn as sns\n",
    "import matplotlib.pyplot as plt\n",
    "from sklearn.feature_selection import RFECV\n",
    "from sklearn.model_selection import train_test_split, GridSearchCV, KFold, RandomizedSearchCV\n",
    "from sklearn.preprocessing import StandardScaler\n",
    "from sklearn.pipeline import Pipeline\n",
    "from sklearn import metrics\n",
    "from sklearn.metrics import accuracy_score,r2_score\n",
    "import xgboost \n",
    "from xgboost import XGBRFRegressor, XGBRegressor\n",
    "from sklearn.metrics import make_scorer\n",
    "r2_score = make_scorer(r2_score)"
   ]
  },
  {
   "cell_type": "markdown",
   "metadata": {},
   "source": [
    "# In this note book the following steps are taken:\n",
    "1. Find the best hyper parameters for estimator\n",
    "2. Find the most important features by tunned random forest\n",
    "3. Comapring r2 of the tuuned full model and model with selected features\n",
    "4. Furthur step is finding tuned model with selected features and comparing the hyper parameters"
   ]
  },
  {
   "cell_type": "code",
   "execution_count": 222,
   "metadata": {},
   "outputs": [],
   "source": [
    "#import data\n",
    "Data=pd.read_csv(\"Victoria-Transfomed-Data.csv\")"
   ]
  },
  {
   "cell_type": "code",
   "execution_count": 223,
   "metadata": {},
   "outputs": [],
   "source": [
    "X = Data.iloc[:,:-1]\n",
    "y = Data.iloc[:,-1]"
   ]
  },
  {
   "cell_type": "code",
   "execution_count": 224,
   "metadata": {},
   "outputs": [],
   "source": [
    "#split test and training set. total number of data is 330 so the test size cannot be large\n",
    "np.random.seed(60)\n",
    "X_train, X_test, y_train, y_test = train_test_split(X, y, test_size = 0.3,\n",
    "                                                    random_state = 1000)"
   ]
  },
  {
   "cell_type": "code",
   "execution_count": 225,
   "metadata": {},
   "outputs": [],
   "source": [
    "regressors = {}\n",
    "regressors.update({\"XGBoost\": XGBRegressor(random_state=1000)})\n",
    "FEATURE_IMPORTANCE = {\"XGBoost\"}"
   ]
  },
  {
   "cell_type": "code",
   "execution_count": 226,
   "metadata": {},
   "outputs": [],
   "source": [
    "#Define range of hyperparameters for estimator\n",
    "np.random.seed(60)\n",
    "parameters = {}\n",
    "parameters.update({\"XGBoost\": { \n",
    "                                    \"regressor__learning_rate\":[0.001,0.01,0.02,0.1,0.25,0.5,1],\n",
    "                                    \"regressor__gamma\":[0.001,0.01,0.02,0.1,0.25,0.5,1],\n",
    "                                    \"regressor__max_depth\" : [1,2,3,4,5,6,7,8,9,10,11,12,13,14,15],\n",
    "                                    \"regressor__reg_alpha\":[0.001,0.01,0.02,0.1],\n",
    "                                    \"regressor__reg_lambda\":[0.001,0.01,0.02,0.1],\n",
    "                                    \"regressor__min_child_weight\":[0.001,0.01,0.02,0.1]}\n",
    "})"
   ]
  },
  {
   "cell_type": "code",
   "execution_count": 227,
   "metadata": {},
   "outputs": [
    {
     "data": {
      "image/png": "[encoded data removed]",
      "text/plain": [
       "<Figure size 792x648 with 2 Axes>"
      ]
     },
     "metadata": {},
     "output_type": "display_data"
    }
   ],
   "source": [
    "# Make correlation matrix\n",
    "corr_matrix = X_train.corr(method = \"spearman\").abs()\n",
    "\n",
    "# Draw the heatmap\n",
    "sns.set(font_scale = 1.0)\n",
    "f, ax = plt.subplots(figsize=(11, 9))\n",
    "sns.heatmap(corr_matrix, cmap= \"YlGnBu\", square=True, ax = ax)\n",
    "f.tight_layout()\n",
    "plt.savefig(\"correlation_matrix.png\", dpi = 1080)\n",
    "\n",
    "# Select upper triangle of matrix\n",
    "upper = corr_matrix.where(np.triu(np.ones(corr_matrix.shape), k = 1).astype(np.bool))\n",
    "\n",
    "# Find index of feature columns with correlation greater than 0.8\n",
    "to_drop = [column for column in upper.columns if any(upper[column] > 0.8)]\n",
    "\n",
    "# Drop features\n",
    "X_train = X_train.drop(to_drop, axis = 1)\n",
    "X_test = X_test.drop(to_drop, axis = 1)"
   ]
  },
  {
   "cell_type": "code",
   "execution_count": 228,
   "metadata": {},
   "outputs": [
    {
     "data": {
      "text/html": [
       "<div>\n",
       "<style scoped>\n",
       "    .dataframe tbody tr th:only-of-type {\n",
       "        vertical-align: middle;\n",
       "    }\n",
       "\n",
       "    .dataframe tbody tr th {\n",
       "        vertical-align: top;\n",
       "    }\n",
       "\n",
       "    .dataframe thead th {\n",
       "        text-align: right;\n",
       "    }\n",
       "</style>\n",
       "<table border=\"1\" class=\"dataframe\">\n",
       "  <thead>\n",
       "    <tr style=\"text-align: right;\">\n",
       "      <th></th>\n",
       "      <th>FailureMonth</th>\n",
       "      <th>Material</th>\n",
       "      <th>LiningMaterial</th>\n",
       "      <th>Diameter</th>\n",
       "      <th>HGL</th>\n",
       "      <th>Length</th>\n",
       "      <th>Age</th>\n",
       "      <th>PreviousRoF</th>\n",
       "    </tr>\n",
       "  </thead>\n",
       "  <tbody>\n",
       "    <tr>\n",
       "      <th>315</th>\n",
       "      <td>5.324702</td>\n",
       "      <td>4.105513</td>\n",
       "      <td>3.002399</td>\n",
       "      <td>150</td>\n",
       "      <td>85</td>\n",
       "      <td>120.583174</td>\n",
       "      <td>32</td>\n",
       "      <td>0.000000</td>\n",
       "    </tr>\n",
       "    <tr>\n",
       "      <th>254</th>\n",
       "      <td>7.320808</td>\n",
       "      <td>4.105513</td>\n",
       "      <td>3.002399</td>\n",
       "      <td>150</td>\n",
       "      <td>72</td>\n",
       "      <td>102.532974</td>\n",
       "      <td>35</td>\n",
       "      <td>0.000000</td>\n",
       "    </tr>\n",
       "    <tr>\n",
       "      <th>322</th>\n",
       "      <td>6.593944</td>\n",
       "      <td>2.424176</td>\n",
       "      <td>3.002399</td>\n",
       "      <td>150</td>\n",
       "      <td>85</td>\n",
       "      <td>243.337307</td>\n",
       "      <td>53</td>\n",
       "      <td>0.000000</td>\n",
       "    </tr>\n",
       "    <tr>\n",
       "      <th>448</th>\n",
       "      <td>12.177243</td>\n",
       "      <td>4.105513</td>\n",
       "      <td>3.002399</td>\n",
       "      <td>200</td>\n",
       "      <td>72</td>\n",
       "      <td>119.085481</td>\n",
       "      <td>46</td>\n",
       "      <td>0.000000</td>\n",
       "    </tr>\n",
       "    <tr>\n",
       "      <th>255</th>\n",
       "      <td>2.560404</td>\n",
       "      <td>2.424176</td>\n",
       "      <td>3.002399</td>\n",
       "      <td>300</td>\n",
       "      <td>72</td>\n",
       "      <td>207.272179</td>\n",
       "      <td>81</td>\n",
       "      <td>0.000000</td>\n",
       "    </tr>\n",
       "    <tr>\n",
       "      <th>...</th>\n",
       "      <td>...</td>\n",
       "      <td>...</td>\n",
       "      <td>...</td>\n",
       "      <td>...</td>\n",
       "      <td>...</td>\n",
       "      <td>...</td>\n",
       "      <td>...</td>\n",
       "      <td>...</td>\n",
       "    </tr>\n",
       "    <tr>\n",
       "      <th>251</th>\n",
       "      <td>11.235410</td>\n",
       "      <td>2.424176</td>\n",
       "      <td>1.657181</td>\n",
       "      <td>300</td>\n",
       "      <td>72</td>\n",
       "      <td>153.211233</td>\n",
       "      <td>97</td>\n",
       "      <td>0.000000</td>\n",
       "    </tr>\n",
       "    <tr>\n",
       "      <th>192</th>\n",
       "      <td>2.723547</td>\n",
       "      <td>2.424176</td>\n",
       "      <td>3.002399</td>\n",
       "      <td>150</td>\n",
       "      <td>72</td>\n",
       "      <td>200.238288</td>\n",
       "      <td>58</td>\n",
       "      <td>0.000000</td>\n",
       "    </tr>\n",
       "    <tr>\n",
       "      <th>71</th>\n",
       "      <td>2.560404</td>\n",
       "      <td>2.424176</td>\n",
       "      <td>3.002399</td>\n",
       "      <td>300</td>\n",
       "      <td>72</td>\n",
       "      <td>197.046960</td>\n",
       "      <td>90</td>\n",
       "      <td>0.000000</td>\n",
       "    </tr>\n",
       "    <tr>\n",
       "      <th>87</th>\n",
       "      <td>2.723547</td>\n",
       "      <td>2.424176</td>\n",
       "      <td>3.002399</td>\n",
       "      <td>300</td>\n",
       "      <td>72</td>\n",
       "      <td>265.944338</td>\n",
       "      <td>85</td>\n",
       "      <td>0.000044</td>\n",
       "    </tr>\n",
       "    <tr>\n",
       "      <th>435</th>\n",
       "      <td>6.593944</td>\n",
       "      <td>4.105513</td>\n",
       "      <td>3.002399</td>\n",
       "      <td>150</td>\n",
       "      <td>116</td>\n",
       "      <td>238.893123</td>\n",
       "      <td>50</td>\n",
       "      <td>0.000000</td>\n",
       "    </tr>\n",
       "  </tbody>\n",
       "</table>\n",
       "<p>332 rows × 8 columns</p>\n",
       "</div>"
      ],
      "text/plain": [
       "     FailureMonth  Material  LiningMaterial  Diameter  HGL      Length  Age  \\\n",
       "315      5.324702  4.105513        3.002399       150   85  120.583174   32   \n",
       "254      7.320808  4.105513        3.002399       150   72  102.532974   35   \n",
       "322      6.593944  2.424176        3.002399       150   85  243.337307   53   \n",
       "448     12.177243  4.105513        3.002399       200   72  119.085481   46   \n",
       "255      2.560404  2.424176        3.002399       300   72  207.272179   81   \n",
       "..            ...       ...             ...       ...  ...         ...  ...   \n",
       "251     11.235410  2.424176        1.657181       300   72  153.211233   97   \n",
       "192      2.723547  2.424176        3.002399       150   72  200.238288   58   \n",
       "71       2.560404  2.424176        3.002399       300   72  197.046960   90   \n",
       "87       2.723547  2.424176        3.002399       300   72  265.944338   85   \n",
       "435      6.593944  4.105513        3.002399       150  116  238.893123   50   \n",
       "\n",
       "     PreviousRoF  \n",
       "315     0.000000  \n",
       "254     0.000000  \n",
       "322     0.000000  \n",
       "448     0.000000  \n",
       "255     0.000000  \n",
       "..           ...  \n",
       "251     0.000000  \n",
       "192     0.000000  \n",
       "71      0.000000  \n",
       "87      0.000044  \n",
       "435     0.000000  \n",
       "\n",
       "[332 rows x 8 columns]"
      ]
     },
     "execution_count": 228,
     "metadata": {},
     "output_type": "execute_result"
    }
   ],
   "source": [
    "X_train"
   ]
  },
  {
   "cell_type": "code",
   "execution_count": 229,
   "metadata": {},
   "outputs": [],
   "source": [
    "FEATURE_IMPORTANCE = {\"XGBoost\"}\n",
    "selected_regressor = \"XGBoost\"\n",
    "regressor = regressors[selected_regressor]"
   ]
  },
  {
   "cell_type": "code",
   "execution_count": 230,
   "metadata": {},
   "outputs": [
    {
     "name": "stdout",
     "output_type": "stream",
     "text": [
      "Now tuning XGBoost.\n"
     ]
    }
   ],
   "source": [
    "results = {}\n",
    "for regressor_label, regressor in regressors.items():\n",
    "    # Print message to user\n",
    "    print(f\"Now tuning {regressor_label}.\")"
   ]
  },
  {
   "cell_type": "code",
   "execution_count": 231,
   "metadata": {},
   "outputs": [],
   "source": [
    "scaler = StandardScaler()\n",
    "steps = [(\"scaler\", scaler), (\"regressor\", regressor)]\n",
    "pipeline = Pipeline(steps = steps)"
   ]
  },
  {
   "cell_type": "code",
   "execution_count": 232,
   "metadata": {},
   "outputs": [],
   "source": [
    "#Define parameters that we want to use in gridsearch cv\n",
    "param_grid = parameters[selected_regressor]"
   ]
  },
  {
   "cell_type": "code",
   "execution_count": 233,
   "metadata": {},
   "outputs": [],
   "source": [
    "# Initialize GridSearch object for estimator\n",
    "gscv = RandomizedSearchCV(pipeline, param_grid, cv = 3,  n_jobs= -1, verbose = 1, scoring = r2_score, n_iter=20)"
   ]
  },
  {
   "cell_type": "code",
   "execution_count": 234,
   "metadata": {},
   "outputs": [
    {
     "name": "stdout",
     "output_type": "stream",
     "text": [
      "Now tuning XGBoost. Go grab a beer or something.\n",
      "Fitting 3 folds for each of 20 candidates, totalling 60 fits\n"
     ]
    },
    {
     "name": "stderr",
     "output_type": "stream",
     "text": [
      "[Parallel(n_jobs=-1)]: Using backend LokyBackend with 8 concurrent workers.\n",
      "[Parallel(n_jobs=-1)]: Done  34 tasks      | elapsed:    2.8s\n",
      "[Parallel(n_jobs=-1)]: Done  60 out of  60 | elapsed:    4.5s finished\n"
     ]
    },
    {
     "data": {
      "text/plain": [
       "RandomizedSearchCV(cv=3,\n",
       "                   estimator=Pipeline(steps=[('scaler', StandardScaler()),\n",
       "                                             ('regressor',\n",
       "                                              XGBRegressor(base_score=None,\n",
       "                                                           booster=None,\n",
       "                                                           colsample_bylevel=None,\n",
       "                                                           colsample_bynode=None,\n",
       "                                                           colsample_bytree=None,\n",
       "                                                           enable_categorical=False,\n",
       "                                                           gamma=None,\n",
       "                                                           gpu_id=None,\n",
       "                                                           importance_type=None,\n",
       "                                                           interaction_constraints=None,\n",
       "                                                           learning_rate=None,\n",
       "                                                           max_delta_step=None,\n",
       "                                                           max_depth=Non...\n",
       "                   param_distributions={'regressor__gamma': [0.001, 0.01, 0.02,\n",
       "                                                             0.1, 0.25, 0.5,\n",
       "                                                             1],\n",
       "                                        'regressor__learning_rate': [0.001,\n",
       "                                                                     0.01, 0.02,\n",
       "                                                                     0.1, 0.25,\n",
       "                                                                     0.5, 1],\n",
       "                                        'regressor__max_depth': [1, 2, 3, 4, 5,\n",
       "                                                                 6, 7, 8, 9, 10,\n",
       "                                                                 11, 12, 13, 14,\n",
       "                                                                 15],\n",
       "                                        'regressor__min_child_weight': [0.001,\n",
       "                                                                        0.01,\n",
       "                                                                        0.02,\n",
       "                                                                        0.1],\n",
       "                                        'regressor__reg_alpha': [0.001, 0.01,\n",
       "                                                                 0.02, 0.1],\n",
       "                                        'regressor__reg_lambda': [0.001, 0.01,\n",
       "                                                                  0.02, 0.1]},\n",
       "                   scoring=make_scorer(r2_score), verbose=1)"
      ]
     },
     "execution_count": 234,
     "metadata": {},
     "output_type": "execute_result"
    }
   ],
   "source": [
    "# Fit gscv (Tunes estimator)\n",
    "print(f\"Now tuning {selected_regressor}. Go grab a beer or something.\")\n",
    "gscv.fit(X_train, np.ravel(y_train))  "
   ]
  },
  {
   "cell_type": "code",
   "execution_count": 235,
   "metadata": {},
   "outputs": [
    {
     "data": {
      "text/plain": [
       "{'regressor__reg_lambda': 0.01,\n",
       " 'regressor__reg_alpha': 0.01,\n",
       " 'regressor__min_child_weight': 0.1,\n",
       " 'regressor__max_depth': 7,\n",
       " 'regressor__learning_rate': 0.5,\n",
       " 'regressor__gamma': 0.001}"
      ]
     },
     "execution_count": 235,
     "metadata": {},
     "output_type": "execute_result"
    }
   ],
   "source": [
    "#Getting the best hyperparameters\n",
    "best_params = gscv.best_params_\n",
    "best_params"
   ]
  },
  {
   "cell_type": "code",
   "execution_count": 236,
   "metadata": {},
   "outputs": [
    {
     "data": {
      "text/plain": [
       "0.6495140328567958"
      ]
     },
     "execution_count": 236,
     "metadata": {},
     "output_type": "execute_result"
    }
   ],
   "source": [
    "#Getting the best score of model\n",
    "best_score = gscv.best_score_\n",
    "best_score"
   ]
  },
  {
   "cell_type": "code",
   "execution_count": 237,
   "metadata": {},
   "outputs": [
    {
     "data": {
      "text/plain": [
       "array([0.6461659 , 0.57147217, 0.77965164, 0.27942824, 0.31261234])"
      ]
     },
     "execution_count": 237,
     "metadata": {},
     "output_type": "execute_result"
    }
   ],
   "source": [
    "#Check overfitting of the estimator\n",
    "from sklearn.model_selection import cross_val_score\n",
    "mod = XGBRegressor(gamma= 0.001,\n",
    "                   learning_rate= 0.5,\n",
    "                   max_depth=7, \n",
    "                   min_child_weight= 0.1, \n",
    "                   reg_alpha=0.01,\n",
    "                   reg_lambda = 0.01 ,random_state=10000)\n",
    "\n",
    "scores_test = cross_val_score(mod, X_test, y_test, scoring='r2', cv=5)\n",
    "\n",
    "scores_test"
   ]
  },
  {
   "cell_type": "code",
   "execution_count": 238,
   "metadata": {},
   "outputs": [
    {
     "data": {
      "text/plain": [
       "XGBRegressor(base_score=None, booster=None, colsample_bylevel=None,\n",
       "             colsample_bynode=None, colsample_bytree=None,\n",
       "             enable_categorical=False, gamma=0.001, gpu_id=None,\n",
       "             importance_type=None, interaction_constraints=None,\n",
       "             learning_rate=0.5, max_delta_step=None, max_depth=7,\n",
       "             min_child_weight=0.1, missing=nan, monotone_constraints=None,\n",
       "             n_estimators=100, n_jobs=None, num_parallel_tree=None,\n",
       "             predictor=None, random_state=1000, reg_alpha=0.01, reg_lambda=0.01,\n",
       "             scale_pos_weight=None, subsample=None, tree_method=None,\n",
       "             validate_parameters=None, verbosity=None)"
      ]
     },
     "execution_count": 238,
     "metadata": {},
     "output_type": "execute_result"
    }
   ],
   "source": [
    "tuned_params = {item[11:]: best_params[item] for item in best_params}\n",
    "regressor.set_params(**tuned_params)"
   ]
  },
  {
   "cell_type": "code",
   "execution_count": 240,
   "metadata": {},
   "outputs": [
    {
     "data": {
      "text/plain": [
       "{'classifier': XGBRegressor(base_score=0.5, booster='gbtree', colsample_bylevel=1,\n",
       "              colsample_bynode=1, colsample_bytree=1, enable_categorical=False,\n",
       "              gamma=0.001, gpu_id=-1, importance_type=None,\n",
       "              interaction_constraints='', learning_rate=0.5, max_delta_step=0,\n",
       "              max_depth=7, min_child_weight=0.1, missing=nan,\n",
       "              monotone_constraints='()', n_estimators=100, n_jobs=8,\n",
       "              num_parallel_tree=1, predictor='auto', random_state=10000,\n",
       "              reg_alpha=0.01, reg_lambda=0.01, scale_pos_weight=1, subsample=1,\n",
       "              tree_method='exact', validate_parameters=1, verbosity=None),\n",
       " 'Best Parameters': {'regressor__reg_lambda': 0.01,\n",
       "  'regressor__reg_alpha': 0.01,\n",
       "  'regressor__min_child_weight': 0.1,\n",
       "  'regressor__max_depth': 7,\n",
       "  'regressor__learning_rate': 0.5,\n",
       "  'regressor__gamma': 0.001},\n",
       " 'Training r2': 64.95140328567958,\n",
       " 'Test r2': 57.08450020726848}"
      ]
     },
     "execution_count": 240,
     "metadata": {},
     "output_type": "execute_result"
    }
   ],
   "source": [
    "#Find r2 of the model with all features (Model is tuned for all features)\n",
    "results={}\n",
    "model=regressor.set_params(gamma= 0.001,\n",
    "                   learning_rate= 0.5,\n",
    "                   max_depth=7, \n",
    "                   min_child_weight= 0.1, \n",
    "                   reg_alpha=0.01,\n",
    "                   reg_lambda = 0.01 ,random_state=10000)\n",
    "\n",
    "model.fit(X_train,y_train)\n",
    "y_pred = model.predict(X_test)\n",
    "R2 = metrics.r2_score(y_test, y_pred)\n",
    "results = {\"classifier\": model,\n",
    "              \"Best Parameters\": best_params,\n",
    "              \"Training r2\": best_score*100,\n",
    "              \"Test r2\": R2*100}\n",
    "results"
   ]
  },
  {
   "cell_type": "code",
   "execution_count": 241,
   "metadata": {},
   "outputs": [],
   "source": [
    "# Select Features using RFECV\n",
    "class PipelineRFE(Pipeline):\n",
    "    # Source: https://ramhiser.com/post/2018-03-25-feature-selection-with-scikit-learn-pipeline/\n",
    "    def fit(self, X, y=None, **fit_params):\n",
    "        super(PipelineRFE, self).fit(X, y, **fit_params)\n",
    "        self.feature_importances_ = self.steps[-1][-1].feature_importances_\n",
    "        return self"
   ]
  },
  {
   "cell_type": "code",
   "execution_count": 242,
   "metadata": {},
   "outputs": [
    {
     "name": "stdout",
     "output_type": "stream",
     "text": [
      "Fitting estimator with 8 features.\n",
      "Fitting estimator with 7 features.\n",
      "Fitting estimator with 6 features.\n",
      "Fitting estimator with 5 features.\n",
      "Fitting estimator with 4 features.\n",
      "Fitting estimator with 3 features.\n",
      "Fitting estimator with 2 features.\n",
      "Fitting estimator with 8 features.\n",
      "Fitting estimator with 7 features.\n",
      "Fitting estimator with 6 features.\n",
      "Fitting estimator with 5 features.\n",
      "Fitting estimator with 4 features.\n",
      "Fitting estimator with 3 features.\n",
      "Fitting estimator with 2 features.\n",
      "Fitting estimator with 8 features.\n",
      "Fitting estimator with 7 features.\n",
      "Fitting estimator with 6 features.\n",
      "Fitting estimator with 5 features.\n",
      "Fitting estimator with 4 features.\n",
      "Fitting estimator with 3 features.\n",
      "Fitting estimator with 2 features.\n",
      "Fitting estimator with 8 features.\n",
      "Fitting estimator with 7 features.\n",
      "Fitting estimator with 6 features.\n",
      "Fitting estimator with 5 features.\n",
      "Fitting estimator with 4 features.\n",
      "Fitting estimator with 3 features.\n",
      "Fitting estimator with 2 features.\n",
      "Fitting estimator with 8 features.\n",
      "Fitting estimator with 7 features.\n",
      "Fitting estimator with 6 features.\n",
      "Fitting estimator with 5 features.\n",
      "Fitting estimator with 4 features.\n",
      "Fitting estimator with 3 features.\n",
      "Fitting estimator with 2 features.\n",
      "Fitting estimator with 8 features.\n",
      "Fitting estimator with 7 features.\n",
      "Fitting estimator with 6 features.\n",
      "Fitting estimator with 5 features.\n",
      "Fitting estimator with 4 features.\n",
      "Fitting estimator with 3 features.\n",
      "Fitting estimator with 2 features.\n"
     ]
    }
   ],
   "source": [
    "steps = [(\"scaler\", scaler), (\"regressor\", regressor)]\n",
    "pipe = PipelineRFE(steps = steps)\n",
    "np.random.seed(60)\n",
    "\n",
    "# Initialize RFECV object\n",
    "feature_selector = RFECV(pipe, cv = 5, step = 1, verbose = 1)\n",
    "\n",
    "# Fit RFECV\n",
    "feature_selector.fit(X_train, np.ravel(y_train))\n",
    "\n",
    "# Get selected features\n",
    "feature_names = X_train.columns\n",
    "selected_features = feature_names[feature_selector.support_].tolist()"
   ]
  },
  {
   "cell_type": "code",
   "execution_count": 243,
   "metadata": {},
   "outputs": [
    {
     "data": {
      "image/png": "[encoded data removed]",
      "text/plain": [
       "<Figure size 936x468 with 1 Axes>"
      ]
     },
     "metadata": {},
     "output_type": "display_data"
    }
   ],
   "source": [
    "performance_curve = {\"Number of Features\": list(range(1, len(feature_names) + 1)),\n",
    "                    \"R2\": feature_selector.grid_scores_}\n",
    "performance_curve = pd.DataFrame(performance_curve)\n",
    "\n",
    "# Performance vs Number of Features\n",
    "# Set graph style\n",
    "sns.set(font_scale = 1.75)\n",
    "sns.set_style({\"axes.facecolor\": \"1.0\", \"axes.edgecolor\": \"0.85\", \"grid.color\": \"0.85\",\n",
    "               \"grid.linestyle\": \"-\", 'axes.labelcolor': '0.4', \"xtick.color\": \"0.4\",\n",
    "               'ytick.color': '0.4'})\n",
    "colors = sns.color_palette(\"RdYlGn\", 20)\n",
    "line_color = colors[3]\n",
    "marker_colors = colors[-1]\n",
    "\n",
    "# Plot\n",
    "f, ax = plt.subplots(figsize=(13, 6.5))\n",
    "sns.lineplot(x = \"Number of Features\", y = \"R2\", data = performance_curve,\n",
    "             color = line_color, lw = 4, ax = ax)\n",
    "sns.regplot(x = performance_curve[\"Number of Features\"], y = performance_curve[\"R2\"],\n",
    "            color = marker_colors, fit_reg = False, scatter_kws = {\"s\": 200}, ax = ax)\n",
    "\n",
    "# Axes limits\n",
    "plt.xlim(0.5, len(feature_names)+0.5)\n",
    "plt.ylim(0.60, 1)\n",
    "\n",
    "# Generate a bolded horizontal line at y = 0\n",
    "ax.axhline(y = 0.625, color = 'black', linewidth = 1.3, alpha = .7)\n",
    "\n",
    "# Turn frame off\n",
    "ax.set_frame_on(False)\n",
    "\n",
    "# Tight layout\n",
    "plt.tight_layout()"
   ]
  },
  {
   "cell_type": "code",
   "execution_count": 244,
   "metadata": {},
   "outputs": [],
   "source": [
    "#Define new training and test set based based on selected features by RFECV\n",
    "X_train_rfecv = X_train[selected_features]\n",
    "X_test_rfecv= X_test[selected_features]"
   ]
  },
  {
   "cell_type": "code",
   "execution_count": 245,
   "metadata": {},
   "outputs": [
    {
     "data": {
      "text/plain": [
       "XGBRegressor(base_score=0.5, booster='gbtree', colsample_bylevel=1,\n",
       "             colsample_bynode=1, colsample_bytree=1, enable_categorical=False,\n",
       "             gamma=0.001, gpu_id=-1, importance_type=None,\n",
       "             interaction_constraints='', learning_rate=0.5, max_delta_step=0,\n",
       "             max_depth=7, min_child_weight=0.1, missing=nan,\n",
       "             monotone_constraints='()', n_estimators=100, n_jobs=8,\n",
       "             num_parallel_tree=1, predictor='auto', random_state=10000,\n",
       "             reg_alpha=0.01, reg_lambda=0.01, scale_pos_weight=1, subsample=1,\n",
       "             tree_method='exact', validate_parameters=1, verbosity=None)"
      ]
     },
     "execution_count": 245,
     "metadata": {},
     "output_type": "execute_result"
    }
   ],
   "source": [
    "np.random.seed(60)\n",
    "regressor.fit(X_train_rfecv, np.ravel(y_train))"
   ]
  },
  {
   "cell_type": "code",
   "execution_count": 246,
   "metadata": {},
   "outputs": [
    {
     "data": {
      "text/html": [
       "<div>\n",
       "<style scoped>\n",
       "    .dataframe tbody tr th:only-of-type {\n",
       "        vertical-align: middle;\n",
       "    }\n",
       "\n",
       "    .dataframe tbody tr th {\n",
       "        vertical-align: top;\n",
       "    }\n",
       "\n",
       "    .dataframe thead th {\n",
       "        text-align: right;\n",
       "    }\n",
       "</style>\n",
       "<table border=\"1\" class=\"dataframe\">\n",
       "  <thead>\n",
       "    <tr style=\"text-align: right;\">\n",
       "      <th></th>\n",
       "      <th>Feature Label</th>\n",
       "      <th>Feature Importance</th>\n",
       "    </tr>\n",
       "  </thead>\n",
       "  <tbody>\n",
       "    <tr>\n",
       "      <th>0</th>\n",
       "      <td>PreviousRoF</td>\n",
       "      <td>1.0</td>\n",
       "    </tr>\n",
       "  </tbody>\n",
       "</table>\n",
       "</div>"
      ],
      "text/plain": [
       "  Feature Label  Feature Importance\n",
       "0   PreviousRoF                 1.0"
      ]
     },
     "execution_count": 246,
     "metadata": {},
     "output_type": "execute_result"
    }
   ],
   "source": [
    "#Finding important features\n",
    "np.random.seed(60)\n",
    "feature_importance = pd.DataFrame(selected_features, columns = [\"Feature Label\"])\n",
    "feature_importance[\"Feature Importance\"] = regressor.feature_importances_\n",
    "feature_importance = feature_importance.sort_values(by=\"Feature Importance\", ascending=False)\n",
    "feature_importance"
   ]
  },
  {
   "cell_type": "code",
   "execution_count": 247,
   "metadata": {},
   "outputs": [],
   "source": [
    "# Initialize GridSearch object for model with selected features\n",
    "np.random.seed(60)\n",
    "gscv = RandomizedSearchCV(pipeline, param_grid, cv = 3,  n_jobs= -1, verbose = 1, scoring = r2_score, n_iter=20)"
   ]
  },
  {
   "cell_type": "code",
   "execution_count": 248,
   "metadata": {},
   "outputs": [
    {
     "name": "stdout",
     "output_type": "stream",
     "text": [
      "Fitting 3 folds for each of 20 candidates, totalling 60 fits\n"
     ]
    },
    {
     "name": "stderr",
     "output_type": "stream",
     "text": [
      "[Parallel(n_jobs=-1)]: Using backend LokyBackend with 8 concurrent workers.\n",
      "[Parallel(n_jobs=-1)]: Done  34 tasks      | elapsed:    2.5s\n",
      "[Parallel(n_jobs=-1)]: Done  60 out of  60 | elapsed:    4.4s finished\n"
     ]
    },
    {
     "data": {
      "text/plain": [
       "RandomizedSearchCV(cv=3,\n",
       "                   estimator=Pipeline(steps=[('scaler', StandardScaler()),\n",
       "                                             ('regressor',\n",
       "                                              XGBRegressor(base_score=0.5,\n",
       "                                                           booster='gbtree',\n",
       "                                                           colsample_bylevel=1,\n",
       "                                                           colsample_bynode=1,\n",
       "                                                           colsample_bytree=1,\n",
       "                                                           enable_categorical=False,\n",
       "                                                           gamma=0.001,\n",
       "                                                           gpu_id=-1,\n",
       "                                                           importance_type=None,\n",
       "                                                           interaction_constraints='',\n",
       "                                                           learning_rate=0.5,\n",
       "                                                           max_delta_step=0,\n",
       "                                                           max_depth=7,\n",
       "                                                           min_child_weig...\n",
       "                   param_distributions={'regressor__gamma': [0.001, 0.01, 0.02,\n",
       "                                                             0.1, 0.25, 0.5,\n",
       "                                                             1],\n",
       "                                        'regressor__learning_rate': [0.001,\n",
       "                                                                     0.01, 0.02,\n",
       "                                                                     0.1, 0.25,\n",
       "                                                                     0.5, 1],\n",
       "                                        'regressor__max_depth': [1, 2, 3, 4, 5,\n",
       "                                                                 6, 7, 8, 9, 10,\n",
       "                                                                 11, 12, 13, 14,\n",
       "                                                                 15],\n",
       "                                        'regressor__min_child_weight': [0.001,\n",
       "                                                                        0.01,\n",
       "                                                                        0.02,\n",
       "                                                                        0.1],\n",
       "                                        'regressor__reg_alpha': [0.001, 0.01,\n",
       "                                                                 0.02, 0.1],\n",
       "                                        'regressor__reg_lambda': [0.001, 0.01,\n",
       "                                                                  0.02, 0.1]},\n",
       "                   scoring=make_scorer(r2_score), verbose=1)"
      ]
     },
     "execution_count": 248,
     "metadata": {},
     "output_type": "execute_result"
    }
   ],
   "source": [
    "#Tuning random forest classifier with selected features \n",
    "np.random.seed(60)\n",
    "gscv.fit(X_train_rfecv,y_train) "
   ]
  },
  {
   "cell_type": "code",
   "execution_count": 249,
   "metadata": {},
   "outputs": [
    {
     "data": {
      "text/plain": [
       "{'regressor__reg_lambda': 0.01,\n",
       " 'regressor__reg_alpha': 0.01,\n",
       " 'regressor__min_child_weight': 0.1,\n",
       " 'regressor__max_depth': 7,\n",
       " 'regressor__learning_rate': 0.5,\n",
       " 'regressor__gamma': 0.001}"
      ]
     },
     "execution_count": 249,
     "metadata": {},
     "output_type": "execute_result"
    }
   ],
   "source": [
    "#Getting the best parameters of model with selected features\n",
    "best_params = gscv.best_params_\n",
    "best_params"
   ]
  },
  {
   "cell_type": "code",
   "execution_count": 250,
   "metadata": {},
   "outputs": [
    {
     "data": {
      "text/plain": [
       "0.6495140328567958"
      ]
     },
     "execution_count": 250,
     "metadata": {},
     "output_type": "execute_result"
    }
   ],
   "source": [
    "#Getting the score of model with selected features\n",
    "best_score = gscv.best_score_\n",
    "best_score"
   ]
  },
  {
   "cell_type": "code",
   "execution_count": 251,
   "metadata": {},
   "outputs": [
    {
     "data": {
      "text/plain": [
       "array([0.6461659 , 0.57147217, 0.77965164, 0.27942824, 0.31261234])"
      ]
     },
     "execution_count": 251,
     "metadata": {},
     "output_type": "execute_result"
    }
   ],
   "source": [
    "#Check overfitting of the  tuned model with selected features \n",
    "from sklearn.model_selection import cross_val_score\n",
    "mod = XGBRegressor(gamma= 0.001,\n",
    "                   learning_rate= 0.5,\n",
    "                   max_depth=7, \n",
    "                   min_child_weight= 0.1, \n",
    "                   reg_alpha=0.01, \n",
    "                   reg_lambda = 0.01   ,random_state=10000)\n",
    "\n",
    "scores_test = cross_val_score(mod, X_test_rfecv, y_test, scoring='r2', cv=5)\n",
    "\n",
    "scores_test"
   ]
  },
  {
   "cell_type": "code",
   "execution_count": 252,
   "metadata": {},
   "outputs": [
    {
     "data": {
      "text/plain": [
       "{'classifier': XGBRegressor(base_score=0.5, booster='gbtree', colsample_bylevel=1,\n",
       "              colsample_bynode=1, colsample_bytree=1, enable_categorical=False,\n",
       "              gamma=0.001, gpu_id=-1, importance_type=None,\n",
       "              interaction_constraints='', learning_rate=0.5, max_delta_step=0,\n",
       "              max_depth=7, min_child_weight=0.1, missing=nan,\n",
       "              monotone_constraints='()', n_estimators=100, n_jobs=8,\n",
       "              num_parallel_tree=1, predictor='auto', random_state=10000,\n",
       "              reg_alpha=0.01, reg_lambda=0.01, scale_pos_weight=1, subsample=1,\n",
       "              tree_method='exact', validate_parameters=1, verbosity=None),\n",
       " 'Best Parameters': {'regressor__reg_lambda': 0.01,\n",
       "  'regressor__reg_alpha': 0.01,\n",
       "  'regressor__min_child_weight': 0.1,\n",
       "  'regressor__max_depth': 7,\n",
       "  'regressor__learning_rate': 0.5,\n",
       "  'regressor__gamma': 0.001},\n",
       " 'Training r2': 64.95140328567958,\n",
       " 'Test r2': 57.08450020726848}"
      ]
     },
     "execution_count": 252,
     "metadata": {},
     "output_type": "execute_result"
    }
   ],
   "source": [
    "results={}\n",
    "model=regressor.set_params(gamma= 0.001,\n",
    "                   learning_rate= 0.5,\n",
    "                   max_depth=7, \n",
    "                   min_child_weight= 0.1, \n",
    "                   reg_alpha=0.01, \n",
    "                   reg_lambda = 0.01   ,random_state=10000)\n",
    "model.fit(X_train_rfecv,y_train)\n",
    "y_pred = model.predict(X_test_rfecv)\n",
    "R2 = metrics.r2_score(y_test, y_pred)\n",
    "results = {\"classifier\": model,\n",
    "              \"Best Parameters\": best_params,\n",
    "              \"Training r2\": best_score*100,\n",
    "              \"Test r2\": R2*100}\n",
    "results"
   ]
  },
  {
   "cell_type": "code",
   "execution_count": null,
   "metadata": {},
   "outputs": [],
   "source": []
  }
 ],
 "metadata": {
  "kernelspec": {
   "display_name": "Python 3",
   "language": "python",
   "name": "python3"
  },
  "language_info": {
   "codemirror_mode": {
    "name": "ipython",
    "version": 3
   },
   "file_extension": ".py",
   "mimetype": "text/x-python",
   "name": "python",
   "nbconvert_exporter": "python",
   "pygments_lexer": "ipython3",
   "version": "3.8.5"
  }
 },
 "nbformat": 4,
 "nbformat_minor": 4
}
