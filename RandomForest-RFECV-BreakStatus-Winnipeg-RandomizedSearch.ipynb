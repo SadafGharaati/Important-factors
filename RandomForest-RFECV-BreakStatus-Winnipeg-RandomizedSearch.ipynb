{
 "cells": [
  {
   "cell_type": "markdown",
   "metadata": {},
   "source": [
    "# In this note book the following steps are taken:\n",
    "1. Remove highly correlated attributes\n",
    "2. Find the best hyper parameters for estimator\n",
    "3. Find the most important features by tunned random forest\n",
    "4. Find f1 score of the tunned full model\n",
    "5. Find best hyper parameter of model with selected features\n",
    "6. Find f1 score of the tuned seleccted model\n",
    "7. Compare the two f1 scores"
   ]
  },
  {
   "cell_type": "code",
   "execution_count": 1,
   "metadata": {},
   "outputs": [],
   "source": [
    "import numpy as np\n",
    "import pandas as pd\n",
    "import seaborn as sns\n",
    "import matplotlib.pyplot as plt\n",
    "from sklearn.feature_selection import RFECV,RFE\n",
    "from sklearn.model_selection import train_test_split, GridSearchCV, KFold,RandomizedSearchCV\n",
    "from sklearn.preprocessing import StandardScaler\n",
    "from sklearn.pipeline import Pipeline\n",
    "from sklearn import metrics\n",
    "from sklearn.ensemble import RandomForestClassifier\n",
    "from sklearn.metrics import accuracy_score,f1_score\n",
    "import numpy as np\n",
    "from sklearn.metrics import make_scorer\n",
    "f1_score = make_scorer(f1_score)"
   ]
  },
  {
   "cell_type": "code",
   "execution_count": 2,
   "metadata": {},
   "outputs": [],
   "source": [
    "#import data\n",
    "Data=pd.read_csv(\"Winnipeg-Transfomed-Data-BS-NoBreak - Copy.csv\")"
   ]
  },
  {
   "cell_type": "code",
   "execution_count": 3,
   "metadata": {},
   "outputs": [],
   "source": [
    "X = Data.iloc[:,:-1]\n",
    "y = Data.iloc[:,-1]"
   ]
  },
  {
   "cell_type": "code",
   "execution_count": 4,
   "metadata": {},
   "outputs": [],
   "source": [
    "#split test and training set. \n",
    "np.random.seed(60)\n",
    "X_train, X_test, y_train, y_test = train_test_split(X, y, test_size = 0.10,\n",
    "                                                    random_state = 1000)"
   ]
  },
  {
   "cell_type": "code",
   "execution_count": 5,
   "metadata": {},
   "outputs": [],
   "source": [
    "#Define estimator and model\n",
    "classifiers = {}\n",
    "classifiers.update({\"Random Forest\": RandomForestClassifier(random_state=1000)})"
   ]
  },
  {
   "cell_type": "code",
   "execution_count": 6,
   "metadata": {},
   "outputs": [],
   "source": [
    "#Define range of hyperparameters for estimator\n",
    "np.random.seed(60)\n",
    "parameters = {}\n",
    "parameters.update({\"Random Forest\": { \"classifier__n_estimators\": [100,105,110,115,120,125,130,135,140,145,150,155,160,170,180,190,200],\n",
    "                                   # \"classifier__n_estimators\": [2,4,5,6,7,8,9,10,20,30,40,50,60,70,80,90,100,110,120,130,140,150,160,170,180,190,200],\n",
    "                                    #\"classifier__class_weight\": [None, \"balanced\"],\n",
    "                                    \"classifier__max_features\": [\"auto\", \"sqrt\", \"log2\"],\n",
    "                                     \"classifier__max_depth\" : [4,6,8,10,11,12,13,14,15,16,17,18,19,20,22],\n",
    "                                    #\"classifier__max_depth\" : [1,2,3,4,5,6,7,8,9,10,11,12,13,14,15,16,17,18,19,20],\n",
    "                                    \"classifier__criterion\" :[\"gini\", \"entropy\"]\n",
    "                                    \n",
    "}})"
   ]
  },
  {
   "cell_type": "code",
   "execution_count": 7,
   "metadata": {},
   "outputs": [
    {
     "data": {
      "image/png": "[encoded data removed]",
      "text/plain": [
       "<Figure size 792x648 with 2 Axes>"
      ]
     },
     "metadata": {},
     "output_type": "display_data"
    }
   ],
   "source": [
    "# Make correlation matrix\n",
    "corr_matrix = X_train.corr(method = \"spearman\").abs()\n",
    "\n",
    "# Draw the heatmap\n",
    "sns.set(font_scale = 1.0)\n",
    "f, ax = plt.subplots(figsize=(11, 9))\n",
    "sns.heatmap(corr_matrix, cmap= \"YlGnBu\", square=True, ax = ax)\n",
    "f.tight_layout()\n",
    "plt.savefig(\"correlation_matrix.png\", dpi = 1080)\n",
    "\n",
    "# Select upper triangle of matrix\n",
    "upper = corr_matrix.where(np.triu(np.ones(corr_matrix.shape), k = 1).astype(np.bool))\n",
    "\n",
    "# Find index of feature columns with correlation greater than 0.8\n",
    "to_drop = [column for column in upper.columns if any(upper[column] > 0.8)]\n",
    "\n",
    "# Drop features\n",
    "X_train = X_train.drop(to_drop, axis = 1)\n",
    "X_test = X_test.drop(to_drop, axis = 1)"
   ]
  },
  {
   "cell_type": "code",
   "execution_count": 8,
   "metadata": {},
   "outputs": [
    {
     "data": {
      "text/html": [
       "<div>\n",
       "<style scoped>\n",
       "    .dataframe tbody tr th:only-of-type {\n",
       "        vertical-align: middle;\n",
       "    }\n",
       "\n",
       "    .dataframe tbody tr th {\n",
       "        vertical-align: top;\n",
       "    }\n",
       "\n",
       "    .dataframe thead th {\n",
       "        text-align: right;\n",
       "    }\n",
       "</style>\n",
       "<table border=\"1\" class=\"dataframe\">\n",
       "  <thead>\n",
       "    <tr style=\"text-align: right;\">\n",
       "      <th></th>\n",
       "      <th>Age</th>\n",
       "      <th>Diameter</th>\n",
       "      <th>Material</th>\n",
       "      <th>FailureMonth</th>\n",
       "      <th>Status</th>\n",
       "      <th>CoatingMaterial</th>\n",
       "    </tr>\n",
       "  </thead>\n",
       "  <tbody>\n",
       "    <tr>\n",
       "      <th>38176</th>\n",
       "      <td>30</td>\n",
       "      <td>200</td>\n",
       "      <td>3.732693</td>\n",
       "      <td>7.354608</td>\n",
       "      <td>1</td>\n",
       "      <td>6.992801</td>\n",
       "    </tr>\n",
       "    <tr>\n",
       "      <th>118095</th>\n",
       "      <td>41</td>\n",
       "      <td>150</td>\n",
       "      <td>12.900906</td>\n",
       "      <td>8.016473</td>\n",
       "      <td>1</td>\n",
       "      <td>6.992801</td>\n",
       "    </tr>\n",
       "    <tr>\n",
       "      <th>46678</th>\n",
       "      <td>4</td>\n",
       "      <td>250</td>\n",
       "      <td>3.732693</td>\n",
       "      <td>8.016473</td>\n",
       "      <td>1</td>\n",
       "      <td>6.992801</td>\n",
       "    </tr>\n",
       "    <tr>\n",
       "      <th>16530</th>\n",
       "      <td>39</td>\n",
       "      <td>150</td>\n",
       "      <td>3.732693</td>\n",
       "      <td>3.311237</td>\n",
       "      <td>1</td>\n",
       "      <td>6.992801</td>\n",
       "    </tr>\n",
       "    <tr>\n",
       "      <th>20328</th>\n",
       "      <td>18</td>\n",
       "      <td>150</td>\n",
       "      <td>3.732693</td>\n",
       "      <td>4.138739</td>\n",
       "      <td>1</td>\n",
       "      <td>6.992801</td>\n",
       "    </tr>\n",
       "    <tr>\n",
       "      <th>...</th>\n",
       "      <td>...</td>\n",
       "      <td>...</td>\n",
       "      <td>...</td>\n",
       "      <td>...</td>\n",
       "      <td>...</td>\n",
       "      <td>...</td>\n",
       "    </tr>\n",
       "    <tr>\n",
       "      <th>113915</th>\n",
       "      <td>31</td>\n",
       "      <td>150</td>\n",
       "      <td>12.900906</td>\n",
       "      <td>5.214523</td>\n",
       "      <td>1</td>\n",
       "      <td>6.992801</td>\n",
       "    </tr>\n",
       "    <tr>\n",
       "      <th>3776</th>\n",
       "      <td>29</td>\n",
       "      <td>150</td>\n",
       "      <td>3.732693</td>\n",
       "      <td>15.358129</td>\n",
       "      <td>1</td>\n",
       "      <td>6.992801</td>\n",
       "    </tr>\n",
       "    <tr>\n",
       "      <th>71751</th>\n",
       "      <td>44</td>\n",
       "      <td>200</td>\n",
       "      <td>10.419157</td>\n",
       "      <td>4.479892</td>\n",
       "      <td>1</td>\n",
       "      <td>6.992801</td>\n",
       "    </tr>\n",
       "    <tr>\n",
       "      <th>70231</th>\n",
       "      <td>60</td>\n",
       "      <td>300</td>\n",
       "      <td>10.419157</td>\n",
       "      <td>3.934582</td>\n",
       "      <td>1</td>\n",
       "      <td>6.992801</td>\n",
       "    </tr>\n",
       "    <tr>\n",
       "      <th>107955</th>\n",
       "      <td>16</td>\n",
       "      <td>150</td>\n",
       "      <td>10.419157</td>\n",
       "      <td>15.358129</td>\n",
       "      <td>1</td>\n",
       "      <td>6.992801</td>\n",
       "    </tr>\n",
       "  </tbody>\n",
       "</table>\n",
       "<p>107210 rows × 6 columns</p>\n",
       "</div>"
      ],
      "text/plain": [
       "        Age  Diameter   Material  FailureMonth  Status  CoatingMaterial\n",
       "38176    30       200   3.732693      7.354608       1         6.992801\n",
       "118095   41       150  12.900906      8.016473       1         6.992801\n",
       "46678     4       250   3.732693      8.016473       1         6.992801\n",
       "16530    39       150   3.732693      3.311237       1         6.992801\n",
       "20328    18       150   3.732693      4.138739       1         6.992801\n",
       "...     ...       ...        ...           ...     ...              ...\n",
       "113915   31       150  12.900906      5.214523       1         6.992801\n",
       "3776     29       150   3.732693     15.358129       1         6.992801\n",
       "71751    44       200  10.419157      4.479892       1         6.992801\n",
       "70231    60       300  10.419157      3.934582       1         6.992801\n",
       "107955   16       150  10.419157     15.358129       1         6.992801\n",
       "\n",
       "[107210 rows x 6 columns]"
      ]
     },
     "execution_count": 8,
     "metadata": {},
     "output_type": "execute_result"
    }
   ],
   "source": [
    "X_train"
   ]
  },
  {
   "cell_type": "code",
   "execution_count": 9,
   "metadata": {},
   "outputs": [],
   "source": [
    "FEATURE_IMPORTANCE = {\"Random Forest\"}\n",
    "selected_classifier = \"Random Forest\"\n",
    "classifier = classifiers[selected_classifier]"
   ]
  },
  {
   "cell_type": "code",
   "execution_count": 10,
   "metadata": {},
   "outputs": [],
   "source": [
    "scaler = StandardScaler()\n",
    "steps = [(\"scaler\", scaler), (\"classifier\", classifier)]\n",
    "pipeline = Pipeline(steps = steps)"
   ]
  },
  {
   "cell_type": "code",
   "execution_count": 11,
   "metadata": {},
   "outputs": [],
   "source": [
    "#Define parameters that we want to use in gridsearch cv\n",
    "param_grid = parameters[selected_classifier]"
   ]
  },
  {
   "cell_type": "code",
   "execution_count": 12,
   "metadata": {},
   "outputs": [],
   "source": [
    "# Initialize GridSearch object for estimator\n",
    "gscv = RandomizedSearchCV(pipeline, param_grid, cv = 3,  n_jobs= -1, verbose = 1, scoring = f1_score, n_iter=30)"
   ]
  },
  {
   "cell_type": "code",
   "execution_count": 13,
   "metadata": {},
   "outputs": [
    {
     "name": "stdout",
     "output_type": "stream",
     "text": [
      "Now tuning Random Forest. Go grab a beer or something.\n",
      "Fitting 3 folds for each of 30 candidates, totalling 90 fits\n"
     ]
    },
    {
     "name": "stderr",
     "output_type": "stream",
     "text": [
      "[Parallel(n_jobs=-1)]: Using backend LokyBackend with 8 concurrent workers.\n",
      "[Parallel(n_jobs=-1)]: Done  34 tasks      | elapsed:  1.9min\n",
      "[Parallel(n_jobs=-1)]: Done  90 out of  90 | elapsed:  5.0min finished\n"
     ]
    },
    {
     "data": {
      "text/plain": [
       "RandomizedSearchCV(cv=3,\n",
       "                   estimator=Pipeline(steps=[('scaler', StandardScaler()),\n",
       "                                             ('classifier',\n",
       "                                              RandomForestClassifier(random_state=1000))]),\n",
       "                   n_iter=30, n_jobs=-1,\n",
       "                   param_distributions={'classifier__criterion': ['gini',\n",
       "                                                                  'entropy'],\n",
       "                                        'classifier__max_depth': [4, 6, 8, 10,\n",
       "                                                                  11, 12, 13,\n",
       "                                                                  14, 15, 16,\n",
       "                                                                  17, 18, 19,\n",
       "                                                                  20, 22],\n",
       "                                        'classifier__max_features': ['auto',\n",
       "                                                                     'sqrt',\n",
       "                                                                     'log2'],\n",
       "                                        'classifier__n_estimators': [100, 105,\n",
       "                                                                     110, 115,\n",
       "                                                                     120, 125,\n",
       "                                                                     130, 135,\n",
       "                                                                     140, 145,\n",
       "                                                                     150, 155,\n",
       "                                                                     160, 170,\n",
       "                                                                     180, 190,\n",
       "                                                                     200]},\n",
       "                   scoring=make_scorer(f1_score), verbose=1)"
      ]
     },
     "execution_count": 13,
     "metadata": {},
     "output_type": "execute_result"
    }
   ],
   "source": [
    "# Fit gscv (Tunes estimator)\n",
    "print(f\"Now tuning {selected_classifier}. Go grab a beer or something.\")\n",
    "gscv.fit(X_train, np.ravel(y_train))  "
   ]
  },
  {
   "cell_type": "code",
   "execution_count": 14,
   "metadata": {},
   "outputs": [
    {
     "data": {
      "text/plain": [
       "{'classifier__n_estimators': 150,\n",
       " 'classifier__max_features': 'auto',\n",
       " 'classifier__max_depth': 13,\n",
       " 'classifier__criterion': 'gini'}"
      ]
     },
     "execution_count": 14,
     "metadata": {},
     "output_type": "execute_result"
    }
   ],
   "source": [
    "#Getting the best hyperparameters\n",
    "best_params = gscv.best_params_\n",
    "best_params"
   ]
  },
  {
   "cell_type": "code",
   "execution_count": 15,
   "metadata": {},
   "outputs": [
    {
     "data": {
      "text/plain": [
       "0.9566869588451882"
      ]
     },
     "execution_count": 15,
     "metadata": {},
     "output_type": "execute_result"
    }
   ],
   "source": [
    "#Getting the best score of model\n",
    "best_score = gscv.best_score_\n",
    "best_score"
   ]
  },
  {
   "cell_type": "code",
   "execution_count": 16,
   "metadata": {},
   "outputs": [
    {
     "data": {
      "text/plain": [
       "array([0.95411433, 0.94572453, 0.95255194, 0.94984488, 0.95003883])"
      ]
     },
     "execution_count": 16,
     "metadata": {},
     "output_type": "execute_result"
    }
   ],
   "source": [
    "#Check overfitting of the estimator\n",
    "from sklearn.model_selection import cross_val_score\n",
    "mod = RandomForestClassifier(#class_weight= None,\n",
    " criterion= 'gini',\n",
    " max_depth= 13,\n",
    " max_features= 'auto',\n",
    " n_estimators= 150 ,random_state=10000)\n",
    "\n",
    "scores_test = cross_val_score(mod, X_test, y_test, scoring='f1', cv=5)\n",
    "\n",
    "scores_test"
   ]
  },
  {
   "cell_type": "code",
   "execution_count": 17,
   "metadata": {},
   "outputs": [
    {
     "data": {
      "text/plain": [
       "RandomForestClassifier(max_depth=13, n_estimators=150, random_state=1000)"
      ]
     },
     "execution_count": 17,
     "metadata": {},
     "output_type": "execute_result"
    }
   ],
   "source": [
    "tuned_params = {item[12:]: best_params[item] for item in best_params}\n",
    "classifier.set_params(**tuned_params)"
   ]
  },
  {
   "cell_type": "code",
   "execution_count": 18,
   "metadata": {},
   "outputs": [
    {
     "data": {
      "text/plain": [
       "{'classifier': RandomForestClassifier(max_depth=13, n_estimators=150, random_state=10000),\n",
       " 'Best Parameters': {'classifier__n_estimators': 150,\n",
       "  'classifier__max_features': 'auto',\n",
       "  'classifier__max_depth': 13,\n",
       "  'classifier__criterion': 'gini'},\n",
       " 'Training f1': 95.66869588451881,\n",
       " 'Test f1': 95.71062083119548}"
      ]
     },
     "execution_count": 18,
     "metadata": {},
     "output_type": "execute_result"
    }
   ],
   "source": [
    "#Find f1 score of the model with all features (Model is tuned for all features)\n",
    "results={}\n",
    "model=classifier.set_params(criterion= 'gini',\n",
    " max_depth= 13,\n",
    " max_features= 'auto',\n",
    " n_estimators= 150 ,random_state=10000)\n",
    "model.fit(X_train,y_train)\n",
    "y_pred = model.predict(X_test)\n",
    "F1 = metrics.f1_score(y_test, y_pred)\n",
    "results = {\"classifier\": model,\n",
    "              \"Best Parameters\": best_params,\n",
    "              \"Training f1\": best_score*100,\n",
    "              \"Test f1\": F1*100}\n",
    "results\n"
   ]
  },
  {
   "cell_type": "code",
   "execution_count": 19,
   "metadata": {},
   "outputs": [],
   "source": [
    "# Select Features using RFECV\n",
    "class PipelineRFE(Pipeline):\n",
    "    # Source: https://ramhiser.com/post/2018-03-25-feature-selection-with-scikit-learn-pipeline/\n",
    "    def fit(self, X, y=None, **fit_params):\n",
    "        super(PipelineRFE, self).fit(X, y, **fit_params)\n",
    "        self.feature_importances_ = self.steps[-1][-1].feature_importances_\n",
    "        return self"
   ]
  },
  {
   "cell_type": "code",
   "execution_count": 20,
   "metadata": {},
   "outputs": [
    {
     "name": "stdout",
     "output_type": "stream",
     "text": [
      "Fitting estimator with 6 features.\n",
      "Fitting estimator with 5 features.\n",
      "Fitting estimator with 4 features.\n",
      "Fitting estimator with 3 features.\n",
      "Fitting estimator with 2 features.\n",
      "Fitting estimator with 6 features.\n",
      "Fitting estimator with 5 features.\n",
      "Fitting estimator with 4 features.\n",
      "Fitting estimator with 3 features.\n",
      "Fitting estimator with 2 features.\n",
      "Fitting estimator with 6 features.\n",
      "Fitting estimator with 5 features.\n",
      "Fitting estimator with 4 features.\n",
      "Fitting estimator with 3 features.\n",
      "Fitting estimator with 2 features.\n",
      "Fitting estimator with 6 features.\n",
      "Fitting estimator with 5 features.\n",
      "Fitting estimator with 4 features.\n",
      "Fitting estimator with 3 features.\n",
      "Fitting estimator with 2 features.\n",
      "Fitting estimator with 6 features.\n",
      "Fitting estimator with 5 features.\n",
      "Fitting estimator with 4 features.\n",
      "Fitting estimator with 3 features.\n",
      "Fitting estimator with 2 features.\n",
      "Fitting estimator with 6 features.\n",
      "Fitting estimator with 5 features.\n",
      "Fitting estimator with 4 features.\n"
     ]
    }
   ],
   "source": [
    "steps = [(\"scaler\", scaler), (\"classifier\", classifier)]\n",
    "pipe = PipelineRFE(steps = steps)\n",
    "np.random.seed(60)\n",
    "\n",
    "# Initialize RFECV object\n",
    "feature_selector = RFECV(pipe, cv = 5, step = 1, verbose = 1)\n",
    "\n",
    "# Fit RFECV\n",
    "feature_selector.fit(X_train, np.ravel(y_train))\n",
    "\n",
    "# Get selected features\n",
    "feature_names = X_train.columns\n",
    "selected_features = feature_names[feature_selector.support_].tolist()"
   ]
  },
  {
   "cell_type": "code",
   "execution_count": 21,
   "metadata": {},
   "outputs": [
    {
     "data": {
      "image/png": "[encoded data removed]",
      "text/plain": [
       "<Figure size 936x468 with 1 Axes>"
      ]
     },
     "metadata": {},
     "output_type": "display_data"
    }
   ],
   "source": [
    "performance_curve = {\"Number of Features\": list(range(1, len(feature_names) + 1)),\n",
    "                    \"F1\": feature_selector.grid_scores_}\n",
    "performance_curve = pd.DataFrame(performance_curve)\n",
    "\n",
    "# Performance vs Number of Features\n",
    "# Set graph style\n",
    "sns.set(font_scale = 1.75)\n",
    "sns.set_style({\"axes.facecolor\": \"1.0\", \"axes.edgecolor\": \"0.85\", \"grid.color\": \"0.85\",\n",
    "               \"grid.linestyle\": \"-\", 'axes.labelcolor': '0.4', \"xtick.color\": \"0.4\",\n",
    "               'ytick.color': '0.4'})\n",
    "colors = sns.color_palette(\"RdYlGn\", 20)\n",
    "line_color = colors[3]\n",
    "marker_colors = colors[-1]\n",
    "\n",
    "# Plot\n",
    "f, ax = plt.subplots(figsize=(13, 6.5))\n",
    "sns.lineplot(x = \"Number of Features\", y = \"F1\", data = performance_curve,\n",
    "             color = line_color, lw = 4, ax = ax)\n",
    "sns.regplot(x = performance_curve[\"Number of Features\"], y = performance_curve[\"F1\"],\n",
    "            color = marker_colors, fit_reg = False, scatter_kws = {\"s\": 200}, ax = ax)\n",
    "\n",
    "# Axes limits\n",
    "plt.xlim(0.5, len(feature_names)+0.5)\n",
    "plt.ylim(0.60, 1)\n",
    "\n",
    "# Generate a bolded horizontal line at y = 0\n",
    "ax.axhline(y = 0.625, color = 'black', linewidth = 1.3, alpha = .7)\n",
    "\n",
    "# Turn frame off\n",
    "ax.set_frame_on(False)\n",
    "\n",
    "# Tight layout\n",
    "plt.tight_layout()"
   ]
  },
  {
   "cell_type": "code",
   "execution_count": 22,
   "metadata": {},
   "outputs": [],
   "source": [
    "#Define new training and test set based based on selected features by RFECV\n",
    "X_train_rfecv = X_train[selected_features]\n",
    "X_test_rfecv= X_test[selected_features]"
   ]
  },
  {
   "cell_type": "code",
   "execution_count": 23,
   "metadata": {},
   "outputs": [
    {
     "data": {
      "text/plain": [
       "RandomForestClassifier(max_depth=13, n_estimators=150, random_state=10000)"
      ]
     },
     "execution_count": 23,
     "metadata": {},
     "output_type": "execute_result"
    }
   ],
   "source": [
    "np.random.seed(60)\n",
    "classifier.fit(X_train_rfecv, np.ravel(y_train))"
   ]
  },
  {
   "cell_type": "code",
   "execution_count": 24,
   "metadata": {},
   "outputs": [
    {
     "data": {
      "text/html": [
       "<div>\n",
       "<style scoped>\n",
       "    .dataframe tbody tr th:only-of-type {\n",
       "        vertical-align: middle;\n",
       "    }\n",
       "\n",
       "    .dataframe tbody tr th {\n",
       "        vertical-align: top;\n",
       "    }\n",
       "\n",
       "    .dataframe thead th {\n",
       "        text-align: right;\n",
       "    }\n",
       "</style>\n",
       "<table border=\"1\" class=\"dataframe\">\n",
       "  <thead>\n",
       "    <tr style=\"text-align: right;\">\n",
       "      <th></th>\n",
       "      <th>Feature Label</th>\n",
       "      <th>Feature Importance</th>\n",
       "    </tr>\n",
       "  </thead>\n",
       "  <tbody>\n",
       "    <tr>\n",
       "      <th>2</th>\n",
       "      <td>Material</td>\n",
       "      <td>0.576563</td>\n",
       "    </tr>\n",
       "    <tr>\n",
       "      <th>0</th>\n",
       "      <td>Age</td>\n",
       "      <td>0.391259</td>\n",
       "    </tr>\n",
       "    <tr>\n",
       "      <th>1</th>\n",
       "      <td>Diameter</td>\n",
       "      <td>0.032178</td>\n",
       "    </tr>\n",
       "  </tbody>\n",
       "</table>\n",
       "</div>"
      ],
      "text/plain": [
       "  Feature Label  Feature Importance\n",
       "2      Material            0.576563\n",
       "0           Age            0.391259\n",
       "1      Diameter            0.032178"
      ]
     },
     "execution_count": 24,
     "metadata": {},
     "output_type": "execute_result"
    }
   ],
   "source": [
    "#Finding important features\n",
    "np.random.seed(60)\n",
    "feature_importance = pd.DataFrame(selected_features, columns = [\"Feature Label\"])\n",
    "feature_importance[\"Feature Importance\"] = classifier.feature_importances_\n",
    "feature_importance = feature_importance.sort_values(by=\"Feature Importance\", ascending=False)\n",
    "feature_importance"
   ]
  },
  {
   "cell_type": "code",
   "execution_count": 25,
   "metadata": {},
   "outputs": [],
   "source": [
    "# Initialize GridSearch object for model with selected features\n",
    "np.random.seed(60)\n",
    "gscv = RandomizedSearchCV(pipeline, param_grid, cv = 3,  n_jobs= -1, verbose = 1, scoring = f1_score, n_iter=30)"
   ]
  },
  {
   "cell_type": "code",
   "execution_count": 26,
   "metadata": {},
   "outputs": [
    {
     "name": "stdout",
     "output_type": "stream",
     "text": [
      "Fitting 3 folds for each of 30 candidates, totalling 90 fits\n"
     ]
    },
    {
     "name": "stderr",
     "output_type": "stream",
     "text": [
      "[Parallel(n_jobs=-1)]: Using backend LokyBackend with 8 concurrent workers.\n",
      "[Parallel(n_jobs=-1)]: Done  34 tasks      | elapsed:  1.9min\n",
      "[Parallel(n_jobs=-1)]: Done  90 out of  90 | elapsed:  4.2min finished\n"
     ]
    },
    {
     "data": {
      "text/plain": [
       "RandomizedSearchCV(cv=3,\n",
       "                   estimator=Pipeline(steps=[('scaler', StandardScaler()),\n",
       "                                             ('classifier',\n",
       "                                              RandomForestClassifier(max_depth=13,\n",
       "                                                                     n_estimators=150,\n",
       "                                                                     random_state=10000))]),\n",
       "                   n_iter=30, n_jobs=-1,\n",
       "                   param_distributions={'classifier__criterion': ['gini',\n",
       "                                                                  'entropy'],\n",
       "                                        'classifier__max_depth': [4, 6, 8, 10,\n",
       "                                                                  11, 12, 13,\n",
       "                                                                  14, 15, 16,\n",
       "                                                                  17, 18, 19,\n",
       "                                                                  20, 22],\n",
       "                                        'classifier__max_features': ['auto',\n",
       "                                                                     'sqrt',\n",
       "                                                                     'log2'],\n",
       "                                        'classifier__n_estimators': [100, 105,\n",
       "                                                                     110, 115,\n",
       "                                                                     120, 125,\n",
       "                                                                     130, 135,\n",
       "                                                                     140, 145,\n",
       "                                                                     150, 155,\n",
       "                                                                     160, 170,\n",
       "                                                                     180, 190,\n",
       "                                                                     200]},\n",
       "                   scoring=make_scorer(f1_score), verbose=1)"
      ]
     },
     "execution_count": 26,
     "metadata": {},
     "output_type": "execute_result"
    }
   ],
   "source": [
    "#Tuning random forest classifier with selected features \n",
    "np.random.seed(60)\n",
    "gscv.fit(X_train_rfecv,y_train) "
   ]
  },
  {
   "cell_type": "code",
   "execution_count": 27,
   "metadata": {},
   "outputs": [
    {
     "data": {
      "text/plain": [
       "{'classifier__n_estimators': 120,\n",
       " 'classifier__max_features': 'auto',\n",
       " 'classifier__max_depth': 22,\n",
       " 'classifier__criterion': 'entropy'}"
      ]
     },
     "execution_count": 27,
     "metadata": {},
     "output_type": "execute_result"
    }
   ],
   "source": [
    "#Getting the best parameters of model with selected features\n",
    "best_params = gscv.best_params_\n",
    "best_params"
   ]
  },
  {
   "cell_type": "code",
   "execution_count": 28,
   "metadata": {},
   "outputs": [
    {
     "data": {
      "text/plain": [
       "0.9572450567066314"
      ]
     },
     "execution_count": 28,
     "metadata": {},
     "output_type": "execute_result"
    }
   ],
   "source": [
    "#Getting the score of model with selected features\n",
    "best_score = gscv.best_score_\n",
    "best_score"
   ]
  },
  {
   "cell_type": "code",
   "execution_count": 29,
   "metadata": {},
   "outputs": [
    {
     "data": {
      "text/plain": [
       "array([0.95463812, 0.94675159, 0.9541848 , 0.95358432, 0.95292292])"
      ]
     },
     "execution_count": 29,
     "metadata": {},
     "output_type": "execute_result"
    }
   ],
   "source": [
    "#Check overfitting of the  tuned model with selected features \n",
    "from sklearn.model_selection import cross_val_score\n",
    "mod = RandomForestClassifier(#class_weight= None,\n",
    " criterion= 'entropy',\n",
    " max_depth= 22,\n",
    " max_features= 'auto',\n",
    " n_estimators= 120 ,random_state=10000)\n",
    "\n",
    "scores_test = cross_val_score(mod, X_test_rfecv, y_test, scoring='f1', cv=5)\n",
    "\n",
    "scores_test"
   ]
  },
  {
   "cell_type": "code",
   "execution_count": 30,
   "metadata": {},
   "outputs": [
    {
     "data": {
      "text/plain": [
       "{'classifier': RandomForestClassifier(criterion='entropy', max_depth=22, n_estimators=120,\n",
       "                        random_state=10000),\n",
       " 'Best Parameters': {'classifier__n_estimators': 120,\n",
       "  'classifier__max_features': 'auto',\n",
       "  'classifier__max_depth': 22,\n",
       "  'classifier__criterion': 'entropy'},\n",
       " 'Training f1': 95.72450567066313,\n",
       " 'Test f1': 95.85569012213193}"
      ]
     },
     "execution_count": 30,
     "metadata": {},
     "output_type": "execute_result"
    }
   ],
   "source": [
    "results={}\n",
    "model=classifier.set_params(criterion= 'entropy',\n",
    " max_depth= 22,\n",
    " max_features= 'auto',\n",
    " n_estimators= 120 ,random_state=10000)\n",
    "scores_test = cross_val_score(mod, X_test_rfecv, y_test, scoring='f1', cv=5)\n",
    "model.fit(X_train_rfecv,y_train)\n",
    "y_pred = model.predict(X_test_rfecv)\n",
    "F1 = metrics.f1_score(y_test, y_pred)\n",
    "results = {\"classifier\": model,\n",
    "              \"Best Parameters\": best_params,\n",
    "              \"Training f1\": best_score*100,\n",
    "              \"Test f1\": F1*100}\n",
    "results"
   ]
  },
  {
   "cell_type": "code",
   "execution_count": null,
   "metadata": {},
   "outputs": [],
   "source": []
  }
 ],
 "metadata": {
  "kernelspec": {
   "display_name": "Python 3",
   "language": "python",
   "name": "python3"
  },
  "language_info": {
   "codemirror_mode": {
    "name": "ipython",
    "version": 3
   },
   "file_extension": ".py",
   "mimetype": "text/x-python",
   "name": "python",
   "nbconvert_exporter": "python",
   "pygments_lexer": "ipython3",
   "version": "3.8.5"
  }
 },
 "nbformat": 4,
 "nbformat_minor": 4
}
