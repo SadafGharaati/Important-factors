{
 "cells": [
  {
   "cell_type": "markdown",
   "metadata": {},
   "source": [
    "# In this note book the following steps are taken:\n",
    "1. Find the best hyper parameters for estimator\n",
    "2. Find the most important features by tunned random forest\n",
    "3. Comapring r2 of the tuuned full model and model with selected features\n",
    "4. Furthur step is finding tuned model with selected features and comparing the hyper parameters"
   ]
  },
  {
   "cell_type": "code",
   "execution_count": 1,
   "metadata": {},
   "outputs": [],
   "source": [
    "import numpy as np\n",
    "import pandas as pd\n",
    "import seaborn as sns\n",
    "import matplotlib.pyplot as plt\n",
    "from sklearn.feature_selection import RFECV\n",
    "from sklearn.model_selection import train_test_split, GridSearchCV, KFold, RandomizedSearchCV\n",
    "from sklearn.preprocessing import StandardScaler\n",
    "from sklearn.pipeline import Pipeline\n",
    "from sklearn import metrics\n",
    "from sklearn.ensemble import RandomForestRegressor\n",
    "from sklearn.metrics import accuracy_score,r2_score\n",
    "import xgboost \n",
    "from xgboost import XGBRFRegressor, XGBRegressor\n",
    "from sklearn.metrics import make_scorer\n",
    "r2_score = make_scorer(r2_score)"
   ]
  },
  {
   "cell_type": "markdown",
   "metadata": {},
   "source": [
    "## Saskatoon"
   ]
  },
  {
   "cell_type": "code",
   "execution_count": 2,
   "metadata": {},
   "outputs": [],
   "source": [
    "#import data\n",
    "Data=pd.read_csv(\"Saskatoon-Transfomed-Data.csv\")"
   ]
  },
  {
   "cell_type": "code",
   "execution_count": 3,
   "metadata": {},
   "outputs": [],
   "source": [
    "X = Data.iloc[:,:-1]\n",
    "y = Data.iloc[:,-1]"
   ]
  },
  {
   "cell_type": "code",
   "execution_count": 4,
   "metadata": {},
   "outputs": [],
   "source": [
    "#split test and training set. total number of data is 330 so the test size cannot be large\n",
    "np.random.seed(60)\n",
    "X_train, X_test, y_train, y_test = train_test_split(X, y, test_size = 0.15,\n",
    "                                                    random_state = 1000)"
   ]
  },
  {
   "cell_type": "code",
   "execution_count": 5,
   "metadata": {},
   "outputs": [],
   "source": [
    "np.random.seed(60)\n",
    "regressors = {}\n",
    "regressors.update({\"Random Forest\": RandomForestRegressor(random_state=1000)})"
   ]
  },
  {
   "cell_type": "code",
   "execution_count": 6,
   "metadata": {},
   "outputs": [],
   "source": [
    "#Define range of hyperparameters for estimator\n",
    "np.random.seed(60)\n",
    "parameters = {}\n",
    "parameters.update({\"Random Forest\": { \n",
    "                                    \"regressor__n_estimators\": [10,20,30,40,50,60,70,80,90,100,110,120,130,140,150,160,170,180,190,200],\n",
    "                                    \"regressor__max_features\": [\"auto\", \"sqrt\", \"log2\"],\n",
    "                                    \"regressor__max_depth\" : [5,6,7,8,9,10,11,12,13,14,15,16,17,18,19,20],\n",
    "                                    #\"regressor__min_samples_split\": [2, 5, 10,15],\n",
    "                                    #\"regressor__min_samples_leaf\": [1,2,4,6],\n",
    "                                    \"regressor__bootstrap\":[True,False]\n",
    "}})"
   ]
  },
  {
   "cell_type": "code",
   "execution_count": 7,
   "metadata": {},
   "outputs": [
    {
     "data": {
      "image/png": "[encoded data removed]",
      "text/plain": [
       "<Figure size 792x648 with 2 Axes>"
      ]
     },
     "metadata": {},
     "output_type": "display_data"
    }
   ],
   "source": [
    "# Make correlation matrix\n",
    "corr_matrix = X_train.corr(method = \"spearman\").abs()\n",
    "\n",
    "# Draw the heatmap\n",
    "sns.set(font_scale = 1.0)\n",
    "f, ax = plt.subplots(figsize=(11, 9))\n",
    "sns.heatmap(corr_matrix, cmap= \"YlGnBu\", square=True, ax = ax)\n",
    "f.tight_layout()\n",
    "plt.savefig(\"correlation_matrix.png\", dpi = 1080)\n",
    "\n",
    "# Select upper triangle of matrix\n",
    "upper = corr_matrix.where(np.triu(np.ones(corr_matrix.shape), k = 1).astype(np.bool))\n",
    "\n",
    "# Find index of feature columns with correlation greater than 0.8\n",
    "to_drop = [column for column in upper.columns if any(upper[column] > 0.8)]\n",
    "\n",
    "# Drop features\n",
    "X_train = X_train.drop(to_drop, axis = 1)\n",
    "X_test = X_test.drop(to_drop, axis = 1)"
   ]
  },
  {
   "cell_type": "code",
   "execution_count": 8,
   "metadata": {},
   "outputs": [
    {
     "data": {
      "text/html": [
       "<div>\n",
       "<style scoped>\n",
       "    .dataframe tbody tr th:only-of-type {\n",
       "        vertical-align: middle;\n",
       "    }\n",
       "\n",
       "    .dataframe tbody tr th {\n",
       "        vertical-align: top;\n",
       "    }\n",
       "\n",
       "    .dataframe thead th {\n",
       "        text-align: right;\n",
       "    }\n",
       "</style>\n",
       "<table border=\"1\" class=\"dataframe\">\n",
       "  <thead>\n",
       "    <tr style=\"text-align: right;\">\n",
       "      <th></th>\n",
       "      <th>Material</th>\n",
       "      <th>JointType</th>\n",
       "      <th>LiningMaterial</th>\n",
       "      <th>Age</th>\n",
       "      <th>LiningAge</th>\n",
       "      <th>PreviousRoF</th>\n",
       "      <th>Diameter</th>\n",
       "      <th>Length</th>\n",
       "    </tr>\n",
       "  </thead>\n",
       "  <tbody>\n",
       "    <tr>\n",
       "      <th>1419</th>\n",
       "      <td>2.143241</td>\n",
       "      <td>4.160507</td>\n",
       "      <td>2</td>\n",
       "      <td>38</td>\n",
       "      <td>0</td>\n",
       "      <td>0.000318</td>\n",
       "      <td>250</td>\n",
       "      <td>82.704330</td>\n",
       "    </tr>\n",
       "    <tr>\n",
       "      <th>618</th>\n",
       "      <td>2.143241</td>\n",
       "      <td>4.160507</td>\n",
       "      <td>2</td>\n",
       "      <td>10</td>\n",
       "      <td>0</td>\n",
       "      <td>0.001209</td>\n",
       "      <td>350</td>\n",
       "      <td>82.695529</td>\n",
       "    </tr>\n",
       "    <tr>\n",
       "      <th>2948</th>\n",
       "      <td>3.950977</td>\n",
       "      <td>5.405327</td>\n",
       "      <td>2</td>\n",
       "      <td>62</td>\n",
       "      <td>0</td>\n",
       "      <td>0.000000</td>\n",
       "      <td>150</td>\n",
       "      <td>3.800350</td>\n",
       "    </tr>\n",
       "    <tr>\n",
       "      <th>639</th>\n",
       "      <td>3.950977</td>\n",
       "      <td>5.991308</td>\n",
       "      <td>2</td>\n",
       "      <td>92</td>\n",
       "      <td>0</td>\n",
       "      <td>0.000168</td>\n",
       "      <td>150</td>\n",
       "      <td>64.580874</td>\n",
       "    </tr>\n",
       "    <tr>\n",
       "      <th>943</th>\n",
       "      <td>-2.157935</td>\n",
       "      <td>2.571657</td>\n",
       "      <td>2</td>\n",
       "      <td>8</td>\n",
       "      <td>0</td>\n",
       "      <td>0.000000</td>\n",
       "      <td>150</td>\n",
       "      <td>7.622928</td>\n",
       "    </tr>\n",
       "    <tr>\n",
       "      <th>...</th>\n",
       "      <td>...</td>\n",
       "      <td>...</td>\n",
       "      <td>...</td>\n",
       "      <td>...</td>\n",
       "      <td>...</td>\n",
       "      <td>...</td>\n",
       "      <td>...</td>\n",
       "      <td>...</td>\n",
       "    </tr>\n",
       "    <tr>\n",
       "      <th>2398</th>\n",
       "      <td>2.143241</td>\n",
       "      <td>4.160507</td>\n",
       "      <td>2</td>\n",
       "      <td>13</td>\n",
       "      <td>0</td>\n",
       "      <td>0.000000</td>\n",
       "      <td>150</td>\n",
       "      <td>13.522902</td>\n",
       "    </tr>\n",
       "    <tr>\n",
       "      <th>3323</th>\n",
       "      <td>3.950977</td>\n",
       "      <td>2.571657</td>\n",
       "      <td>2</td>\n",
       "      <td>58</td>\n",
       "      <td>0</td>\n",
       "      <td>0.000000</td>\n",
       "      <td>150</td>\n",
       "      <td>155.866022</td>\n",
       "    </tr>\n",
       "    <tr>\n",
       "      <th>2119</th>\n",
       "      <td>3.950977</td>\n",
       "      <td>5.405327</td>\n",
       "      <td>2</td>\n",
       "      <td>34</td>\n",
       "      <td>0</td>\n",
       "      <td>0.000363</td>\n",
       "      <td>250</td>\n",
       "      <td>80.920289</td>\n",
       "    </tr>\n",
       "    <tr>\n",
       "      <th>599</th>\n",
       "      <td>3.950977</td>\n",
       "      <td>5.405327</td>\n",
       "      <td>2</td>\n",
       "      <td>49</td>\n",
       "      <td>0</td>\n",
       "      <td>0.000295</td>\n",
       "      <td>150</td>\n",
       "      <td>69.266066</td>\n",
       "    </tr>\n",
       "    <tr>\n",
       "      <th>1459</th>\n",
       "      <td>2.143241</td>\n",
       "      <td>4.160507</td>\n",
       "      <td>2</td>\n",
       "      <td>17</td>\n",
       "      <td>0</td>\n",
       "      <td>0.000000</td>\n",
       "      <td>150</td>\n",
       "      <td>11.438428</td>\n",
       "    </tr>\n",
       "  </tbody>\n",
       "</table>\n",
       "<p>2913 rows × 8 columns</p>\n",
       "</div>"
      ],
      "text/plain": [
       "      Material  JointType  LiningMaterial  Age  LiningAge  PreviousRoF  \\\n",
       "1419  2.143241   4.160507               2   38          0     0.000318   \n",
       "618   2.143241   4.160507               2   10          0     0.001209   \n",
       "2948  3.950977   5.405327               2   62          0     0.000000   \n",
       "639   3.950977   5.991308               2   92          0     0.000168   \n",
       "943  -2.157935   2.571657               2    8          0     0.000000   \n",
       "...        ...        ...             ...  ...        ...          ...   \n",
       "2398  2.143241   4.160507               2   13          0     0.000000   \n",
       "3323  3.950977   2.571657               2   58          0     0.000000   \n",
       "2119  3.950977   5.405327               2   34          0     0.000363   \n",
       "599   3.950977   5.405327               2   49          0     0.000295   \n",
       "1459  2.143241   4.160507               2   17          0     0.000000   \n",
       "\n",
       "      Diameter      Length  \n",
       "1419       250   82.704330  \n",
       "618        350   82.695529  \n",
       "2948       150    3.800350  \n",
       "639        150   64.580874  \n",
       "943        150    7.622928  \n",
       "...        ...         ...  \n",
       "2398       150   13.522902  \n",
       "3323       150  155.866022  \n",
       "2119       250   80.920289  \n",
       "599        150   69.266066  \n",
       "1459       150   11.438428  \n",
       "\n",
       "[2913 rows x 8 columns]"
      ]
     },
     "execution_count": 8,
     "metadata": {},
     "output_type": "execute_result"
    }
   ],
   "source": [
    "X_train"
   ]
  },
  {
   "cell_type": "code",
   "execution_count": 9,
   "metadata": {},
   "outputs": [],
   "source": [
    "FEATURE_IMPORTANCE = {\"Random Forest\"}"
   ]
  },
  {
   "cell_type": "code",
   "execution_count": 10,
   "metadata": {},
   "outputs": [],
   "source": [
    "np.random.seed(60)\n",
    "selected_regressor = \"Random Forest\"\n",
    "regressor = regressors[selected_regressor]"
   ]
  },
  {
   "cell_type": "code",
   "execution_count": 11,
   "metadata": {},
   "outputs": [],
   "source": [
    "np.random.seed(60)\n",
    "scaler = StandardScaler()\n",
    "steps = [(\"scaler\", scaler), (\"regressor\", regressor)]\n",
    "pipeline = Pipeline(steps = steps)"
   ]
  },
  {
   "cell_type": "code",
   "execution_count": 12,
   "metadata": {},
   "outputs": [],
   "source": [
    "#Define parameters that we want to use in gridsearch cv\n",
    "param_grid = parameters[selected_regressor]"
   ]
  },
  {
   "cell_type": "code",
   "execution_count": 13,
   "metadata": {},
   "outputs": [],
   "source": [
    "# Initialize GridSearch object for estimator\n",
    "gscv = RandomizedSearchCV(pipeline, param_grid, cv = 3,  n_jobs= -1, verbose = 1, scoring = r2_score, n_iter=30)"
   ]
  },
  {
   "cell_type": "code",
   "execution_count": 14,
   "metadata": {},
   "outputs": [
    {
     "name": "stdout",
     "output_type": "stream",
     "text": [
      "Now tuning Random Forest.\n"
     ]
    }
   ],
   "source": [
    "np.random.seed(60)\n",
    "results = {}\n",
    "for regressor_label, regressor in regressors.items():\n",
    "    # Print message to user\n",
    "    print(f\"Now tuning {regressor_label}.\")"
   ]
  },
  {
   "cell_type": "code",
   "execution_count": 15,
   "metadata": {},
   "outputs": [
    {
     "name": "stdout",
     "output_type": "stream",
     "text": [
      "Now tuning Random Forest. Go grab a beer or something.\n",
      "Fitting 3 folds for each of 30 candidates, totalling 90 fits\n"
     ]
    },
    {
     "name": "stderr",
     "output_type": "stream",
     "text": [
      "[Parallel(n_jobs=-1)]: Using backend LokyBackend with 8 concurrent workers.\n",
      "[Parallel(n_jobs=-1)]: Done  34 tasks      | elapsed:    5.3s\n",
      "[Parallel(n_jobs=-1)]: Done  90 out of  90 | elapsed:   12.5s finished\n"
     ]
    },
    {
     "data": {
      "text/plain": [
       "RandomizedSearchCV(cv=3,\n",
       "                   estimator=Pipeline(steps=[('scaler', StandardScaler()),\n",
       "                                             ('regressor',\n",
       "                                              RandomForestRegressor(random_state=1000))]),\n",
       "                   n_iter=30, n_jobs=-1,\n",
       "                   param_distributions={'regressor__bootstrap': [True, False],\n",
       "                                        'regressor__max_depth': [5, 6, 7, 8, 9,\n",
       "                                                                 10, 11, 12, 13,\n",
       "                                                                 14, 15, 16, 17,\n",
       "                                                                 18, 19, 20],\n",
       "                                        'regressor__max_features': ['auto',\n",
       "                                                                    'sqrt',\n",
       "                                                                    'log2'],\n",
       "                                        'regressor__n_estimators': [10, 20, 30,\n",
       "                                                                    40, 50, 60,\n",
       "                                                                    70, 80, 90,\n",
       "                                                                    100, 110,\n",
       "                                                                    120, 130,\n",
       "                                                                    140, 150,\n",
       "                                                                    160, 170,\n",
       "                                                                    180, 190,\n",
       "                                                                    200]},\n",
       "                   scoring=make_scorer(r2_score), verbose=1)"
      ]
     },
     "execution_count": 15,
     "metadata": {},
     "output_type": "execute_result"
    }
   ],
   "source": [
    "# Fit gscv (Tunes estimator)\n",
    "print(f\"Now tuning {selected_regressor}. Go grab a beer or something.\")\n",
    "gscv.fit(X_train, np.ravel(y_train))  "
   ]
  },
  {
   "cell_type": "code",
   "execution_count": 16,
   "metadata": {},
   "outputs": [
    {
     "data": {
      "text/plain": [
       "{'regressor__n_estimators': 50,\n",
       " 'regressor__max_features': 'auto',\n",
       " 'regressor__max_depth': 6,\n",
       " 'regressor__bootstrap': False}"
      ]
     },
     "execution_count": 16,
     "metadata": {},
     "output_type": "execute_result"
    }
   ],
   "source": [
    "#Getting the best hyperparameters\n",
    "best_params = gscv.best_params_\n",
    "best_params"
   ]
  },
  {
   "cell_type": "code",
   "execution_count": 17,
   "metadata": {},
   "outputs": [
    {
     "data": {
      "text/plain": [
       "0.9117565088967435"
      ]
     },
     "execution_count": 17,
     "metadata": {},
     "output_type": "execute_result"
    }
   ],
   "source": [
    "#Getting the best score of model\n",
    "best_score = gscv.best_score_\n",
    "best_score"
   ]
  },
  {
   "cell_type": "code",
   "execution_count": 18,
   "metadata": {},
   "outputs": [
    {
     "data": {
      "text/plain": [
       "array([0.90387674, 0.91946206, 0.93353779, 0.90356807, 0.98629987])"
      ]
     },
     "execution_count": 18,
     "metadata": {},
     "output_type": "execute_result"
    }
   ],
   "source": [
    "#Check overfitting of the estimator\n",
    "from sklearn.model_selection import cross_val_score\n",
    "mod = RandomForestRegressor(\n",
    " max_depth= 6,\n",
    " max_features= 'auto',\n",
    "    bootstrap=False,\n",
    " n_estimators= 50 ,random_state=10000)\n",
    "\n",
    "scores_test = cross_val_score(mod, X_test, y_test, scoring='r2', cv=5)\n",
    "\n",
    "scores_test"
   ]
  },
  {
   "cell_type": "code",
   "execution_count": 19,
   "metadata": {},
   "outputs": [
    {
     "data": {
      "text/plain": [
       "RandomForestRegressor(bootstrap=False, max_depth=6, n_estimators=50,\n",
       "                      random_state=1000)"
      ]
     },
     "execution_count": 19,
     "metadata": {},
     "output_type": "execute_result"
    }
   ],
   "source": [
    "tuned_params = {item[11:]: best_params[item] for item in best_params}\n",
    "regressor.set_params(**tuned_params)"
   ]
  },
  {
   "cell_type": "code",
   "execution_count": 20,
   "metadata": {},
   "outputs": [
    {
     "data": {
      "text/plain": [
       "{'regressor': RandomForestRegressor(bootstrap=False, max_depth=6, n_estimators=50,\n",
       "                       random_state=10000),\n",
       " 'Best Parameters': {'regressor__n_estimators': 50,\n",
       "  'regressor__max_features': 'auto',\n",
       "  'regressor__max_depth': 6,\n",
       "  'regressor__bootstrap': False},\n",
       " 'Training r2': 91.17565088967436,\n",
       " 'Test r2': 96.69354071089795}"
      ]
     },
     "execution_count": 20,
     "metadata": {},
     "output_type": "execute_result"
    }
   ],
   "source": [
    "#Find r2 score of the model with all features (Model is tuned for all features)\n",
    "results={}\n",
    "model=regressor.set_params(max_depth= 6,\n",
    " max_features= 'auto',\n",
    "    bootstrap=False,\n",
    " n_estimators= 50 ,random_state=10000)\n",
    "model.fit(X_train,y_train)\n",
    "y_pred = model.predict(X_test)\n",
    "R2 = metrics.r2_score(y_test, y_pred)\n",
    "results = {\"regressor\": model,\n",
    "              \"Best Parameters\": best_params,\n",
    "              \"Training r2\": best_score*100,\n",
    "              \"Test r2\": R2*100}\n",
    "results\n"
   ]
  },
  {
   "cell_type": "code",
   "execution_count": 21,
   "metadata": {},
   "outputs": [],
   "source": [
    "# Select Features using RFECV\n",
    "class PipelineRFE(Pipeline):\n",
    "    # Source: https://ramhiser.com/post/2018-03-25-feature-selection-with-scikit-learn-pipeline/\n",
    "    def fit(self, X, y=None, **fit_params):\n",
    "        super(PipelineRFE, self).fit(X, y, **fit_params)\n",
    "        self.feature_importances_ = self.steps[-1][-1].feature_importances_\n",
    "        return self"
   ]
  },
  {
   "cell_type": "code",
   "execution_count": 22,
   "metadata": {},
   "outputs": [
    {
     "name": "stdout",
     "output_type": "stream",
     "text": [
      "Fitting estimator with 8 features.\n",
      "Fitting estimator with 7 features.\n",
      "Fitting estimator with 6 features.\n",
      "Fitting estimator with 5 features.\n",
      "Fitting estimator with 4 features.\n",
      "Fitting estimator with 3 features.\n",
      "Fitting estimator with 2 features.\n",
      "Fitting estimator with 8 features.\n",
      "Fitting estimator with 7 features.\n",
      "Fitting estimator with 6 features.\n",
      "Fitting estimator with 5 features.\n",
      "Fitting estimator with 4 features.\n",
      "Fitting estimator with 3 features.\n",
      "Fitting estimator with 2 features.\n",
      "Fitting estimator with 8 features.\n",
      "Fitting estimator with 7 features.\n",
      "Fitting estimator with 6 features.\n",
      "Fitting estimator with 5 features.\n",
      "Fitting estimator with 4 features.\n",
      "Fitting estimator with 3 features.\n",
      "Fitting estimator with 2 features.\n",
      "Fitting estimator with 8 features.\n",
      "Fitting estimator with 7 features.\n",
      "Fitting estimator with 6 features.\n",
      "Fitting estimator with 5 features.\n",
      "Fitting estimator with 4 features.\n",
      "Fitting estimator with 3 features.\n",
      "Fitting estimator with 2 features.\n",
      "Fitting estimator with 8 features.\n",
      "Fitting estimator with 7 features.\n",
      "Fitting estimator with 6 features.\n",
      "Fitting estimator with 5 features.\n",
      "Fitting estimator with 4 features.\n",
      "Fitting estimator with 3 features.\n",
      "Fitting estimator with 2 features.\n",
      "Fitting estimator with 8 features.\n",
      "Fitting estimator with 7 features.\n",
      "Fitting estimator with 6 features.\n",
      "Fitting estimator with 5 features.\n",
      "Fitting estimator with 4 features.\n",
      "Fitting estimator with 3 features.\n",
      "Fitting estimator with 2 features.\n"
     ]
    }
   ],
   "source": [
    "steps = [(\"scaler\", scaler), (\"regressor\", regressor)]\n",
    "pipe = PipelineRFE(steps = steps)\n",
    "np.random.seed(60)\n",
    "\n",
    "# Initialize RFECV object\n",
    "feature_selector = RFECV(pipe, cv = 5, step = 1, verbose = 1)\n",
    "\n",
    "# Fit RFECV\n",
    "feature_selector.fit(X_train, np.ravel(y_train))\n",
    "\n",
    "# Get selected features\n",
    "feature_names = X_train.columns\n",
    "selected_features = feature_names[feature_selector.support_].tolist()"
   ]
  },
  {
   "cell_type": "code",
   "execution_count": 23,
   "metadata": {},
   "outputs": [
    {
     "data": {
      "image/png": "[encoded data removed]",
      "text/plain": [
       "<Figure size 936x468 with 1 Axes>"
      ]
     },
     "metadata": {},
     "output_type": "display_data"
    }
   ],
   "source": [
    "performance_curve = {\"Number of Features\": list(range(1, len(feature_names) + 1)),\n",
    "                    \"R2\": feature_selector.grid_scores_}\n",
    "performance_curve = pd.DataFrame(performance_curve)\n",
    "\n",
    "# Performance vs Number of Features\n",
    "# Set graph style\n",
    "sns.set(font_scale = 1.75)\n",
    "sns.set_style({\"axes.facecolor\": \"1.0\", \"axes.edgecolor\": \"0.85\", \"grid.color\": \"0.85\",\n",
    "               \"grid.linestyle\": \"-\", 'axes.labelcolor': '0.4', \"xtick.color\": \"0.4\",\n",
    "               'ytick.color': '0.4'})\n",
    "colors = sns.color_palette(\"RdYlGn\", 20)\n",
    "line_color = colors[3]\n",
    "marker_colors = colors[-1]\n",
    "\n",
    "# Plot\n",
    "f, ax = plt.subplots(figsize=(13, 6.5))\n",
    "sns.lineplot(x = \"Number of Features\", y = \"R2\", data = performance_curve,\n",
    "             color = line_color, lw = 4, ax = ax)\n",
    "sns.regplot(x = performance_curve[\"Number of Features\"], y = performance_curve[\"R2\"],\n",
    "            color = marker_colors, fit_reg = False, scatter_kws = {\"s\": 200}, ax = ax)\n",
    "\n",
    "# Axes limits\n",
    "plt.xlim(0.5, len(feature_names)+0.5)\n",
    "plt.ylim(0.60, 1)\n",
    "\n",
    "# Generate a bolded horizontal line at y = 0\n",
    "ax.axhline(y = 0.625, color = 'black', linewidth = 1.3, alpha = .7)\n",
    "\n",
    "# Turn frame off\n",
    "ax.set_frame_on(False)\n",
    "\n",
    "# Tight layout\n",
    "plt.tight_layout()"
   ]
  },
  {
   "cell_type": "code",
   "execution_count": 24,
   "metadata": {},
   "outputs": [],
   "source": [
    "#Define new training and test set based based on selected features by RFECV\n",
    "X_train_rfecv = X_train[selected_features]\n",
    "X_test_rfecv= X_test[selected_features]"
   ]
  },
  {
   "cell_type": "code",
   "execution_count": 25,
   "metadata": {},
   "outputs": [
    {
     "data": {
      "text/plain": [
       "RandomForestRegressor(bootstrap=False, max_depth=6, n_estimators=50,\n",
       "                      random_state=10000)"
      ]
     },
     "execution_count": 25,
     "metadata": {},
     "output_type": "execute_result"
    }
   ],
   "source": [
    "np.random.seed(60)\n",
    "regressor.fit(X_train_rfecv, np.ravel(y_train))"
   ]
  },
  {
   "cell_type": "code",
   "execution_count": 26,
   "metadata": {},
   "outputs": [
    {
     "data": {
      "text/html": [
       "<div>\n",
       "<style scoped>\n",
       "    .dataframe tbody tr th:only-of-type {\n",
       "        vertical-align: middle;\n",
       "    }\n",
       "\n",
       "    .dataframe tbody tr th {\n",
       "        vertical-align: top;\n",
       "    }\n",
       "\n",
       "    .dataframe thead th {\n",
       "        text-align: right;\n",
       "    }\n",
       "</style>\n",
       "<table border=\"1\" class=\"dataframe\">\n",
       "  <thead>\n",
       "    <tr style=\"text-align: right;\">\n",
       "      <th></th>\n",
       "      <th>Feature Label</th>\n",
       "      <th>Feature Importance</th>\n",
       "    </tr>\n",
       "  </thead>\n",
       "  <tbody>\n",
       "    <tr>\n",
       "      <th>0</th>\n",
       "      <td>Length</td>\n",
       "      <td>1.0</td>\n",
       "    </tr>\n",
       "  </tbody>\n",
       "</table>\n",
       "</div>"
      ],
      "text/plain": [
       "  Feature Label  Feature Importance\n",
       "0        Length                 1.0"
      ]
     },
     "execution_count": 26,
     "metadata": {},
     "output_type": "execute_result"
    }
   ],
   "source": [
    "#Finding important features\n",
    "np.random.seed(60)\n",
    "feature_importance = pd.DataFrame(selected_features, columns = [\"Feature Label\"])\n",
    "feature_importance[\"Feature Importance\"] = regressor.feature_importances_\n",
    "feature_importance = feature_importance.sort_values(by=\"Feature Importance\", ascending=False)\n",
    "feature_importance"
   ]
  },
  {
   "cell_type": "code",
   "execution_count": 27,
   "metadata": {},
   "outputs": [],
   "source": [
    "# Initialize GridSearch object for model with selected features\n",
    "np.random.seed(60)\n",
    "gscv = RandomizedSearchCV(pipeline, param_grid, cv = 3,  n_jobs= -1, verbose = 1, scoring = r2_score, n_iter=30)"
   ]
  },
  {
   "cell_type": "code",
   "execution_count": 28,
   "metadata": {},
   "outputs": [
    {
     "name": "stdout",
     "output_type": "stream",
     "text": [
      "Fitting 3 folds for each of 30 candidates, totalling 90 fits\n"
     ]
    },
    {
     "name": "stderr",
     "output_type": "stream",
     "text": [
      "[Parallel(n_jobs=-1)]: Using backend LokyBackend with 8 concurrent workers.\n",
      "[Parallel(n_jobs=-1)]: Done  34 tasks      | elapsed:    2.2s\n",
      "[Parallel(n_jobs=-1)]: Done  90 out of  90 | elapsed:    6.2s finished\n"
     ]
    },
    {
     "data": {
      "text/plain": [
       "RandomizedSearchCV(cv=3,\n",
       "                   estimator=Pipeline(steps=[('scaler', StandardScaler()),\n",
       "                                             ('regressor',\n",
       "                                              RandomForestRegressor(bootstrap=False,\n",
       "                                                                    max_depth=6,\n",
       "                                                                    n_estimators=50,\n",
       "                                                                    random_state=10000))]),\n",
       "                   n_iter=30, n_jobs=-1,\n",
       "                   param_distributions={'regressor__bootstrap': [True, False],\n",
       "                                        'regressor__max_depth': [5, 6, 7, 8, 9,\n",
       "                                                                 10, 11, 12, 13,\n",
       "                                                                 14, 15, 16, 17,\n",
       "                                                                 18, 19, 20],\n",
       "                                        'regressor__max_features': ['auto',\n",
       "                                                                    'sqrt',\n",
       "                                                                    'log2'],\n",
       "                                        'regressor__n_estimators': [10, 20, 30,\n",
       "                                                                    40, 50, 60,\n",
       "                                                                    70, 80, 90,\n",
       "                                                                    100, 110,\n",
       "                                                                    120, 130,\n",
       "                                                                    140, 150,\n",
       "                                                                    160, 170,\n",
       "                                                                    180, 190,\n",
       "                                                                    200]},\n",
       "                   scoring=make_scorer(r2_score), verbose=1)"
      ]
     },
     "execution_count": 28,
     "metadata": {},
     "output_type": "execute_result"
    }
   ],
   "source": [
    "#Tuning random forest REGRESSOR with selected features \n",
    "np.random.seed(60)\n",
    "gscv.fit(X_train_rfecv,y_train) "
   ]
  },
  {
   "cell_type": "code",
   "execution_count": 29,
   "metadata": {},
   "outputs": [
    {
     "data": {
      "text/plain": [
       "{'regressor__n_estimators': 50,\n",
       " 'regressor__max_features': 'auto',\n",
       " 'regressor__max_depth': 6,\n",
       " 'regressor__bootstrap': False}"
      ]
     },
     "execution_count": 29,
     "metadata": {},
     "output_type": "execute_result"
    }
   ],
   "source": [
    "#Getting the best parameters of model with selected features\n",
    "best_params = gscv.best_params_\n",
    "best_params"
   ]
  },
  {
   "cell_type": "code",
   "execution_count": 30,
   "metadata": {},
   "outputs": [
    {
     "data": {
      "text/plain": [
       "0.9138292276107016"
      ]
     },
     "execution_count": 30,
     "metadata": {},
     "output_type": "execute_result"
    }
   ],
   "source": [
    "#Getting the score of model with selected features\n",
    "best_score = gscv.best_score_\n",
    "best_score"
   ]
  },
  {
   "cell_type": "code",
   "execution_count": 31,
   "metadata": {},
   "outputs": [
    {
     "data": {
      "text/plain": [
       "array([0.9056012 , 0.93756998, 0.94812882, 0.9575738 , 0.98102301])"
      ]
     },
     "execution_count": 31,
     "metadata": {},
     "output_type": "execute_result"
    }
   ],
   "source": [
    "#Check overfitting of the  tuned model with selected features \n",
    "from sklearn.model_selection import cross_val_score\n",
    "mod = RandomForestRegressor(max_depth= 6,\n",
    " max_features='auto' ,\n",
    "bootstrap=False,\n",
    " n_estimators= 50 ,random_state=10000)\n",
    "\n",
    "scores_test = cross_val_score(mod, X_test_rfecv, y_test, scoring='r2', cv=5)\n",
    "\n",
    "scores_test"
   ]
  },
  {
   "cell_type": "code",
   "execution_count": 33,
   "metadata": {},
   "outputs": [
    {
     "data": {
      "text/plain": [
       "{'regressorr': RandomForestRegressor(bootstrap=False, max_depth=6, n_estimators=50,\n",
       "                       random_state=10000),\n",
       " 'Best Parameters': {'regressor__n_estimators': 50,\n",
       "  'regressor__max_features': 'auto',\n",
       "  'regressor__max_depth': 6,\n",
       "  'regressor__bootstrap': False},\n",
       " 'Training r2': 91.38292276107016,\n",
       " 'Test r2': 97.78422217165881}"
      ]
     },
     "execution_count": 33,
     "metadata": {},
     "output_type": "execute_result"
    }
   ],
   "source": [
    "results={}\n",
    "model=regressor.set_params(max_depth= 6,\n",
    " max_features='auto' ,\n",
    "bootstrap=False,\n",
    " n_estimators= 50 ,random_state=10000)\n",
    "model.fit(X_train_rfecv,y_train)\n",
    "y_pred = model.predict(X_test_rfecv)\n",
    "R2 = metrics.r2_score(y_test, y_pred)\n",
    "results = {\"regressorr\": model,\n",
    "              \"Best Parameters\": best_params,\n",
    "              \"Training r2\": best_score*100,\n",
    "              \"Test r2\": R2*100}\n",
    "results"
   ]
  },
  {
   "cell_type": "code",
   "execution_count": null,
   "metadata": {},
   "outputs": [],
   "source": []
  }
 ],
 "metadata": {
  "kernelspec": {
   "display_name": "Python 3",
   "language": "python",
   "name": "python3"
  },
  "language_info": {
   "codemirror_mode": {
    "name": "ipython",
    "version": 3
   },
   "file_extension": ".py",
   "mimetype": "text/x-python",
   "name": "python",
   "nbconvert_exporter": "python",
   "pygments_lexer": "ipython3",
   "version": "3.8.5"
  }
 },
 "nbformat": 4,
 "nbformat_minor": 4
}
