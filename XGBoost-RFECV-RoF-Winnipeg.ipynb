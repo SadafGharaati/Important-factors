{
 "cells": [
  {
   "cell_type": "code",
   "execution_count": 19,
   "metadata": {},
   "outputs": [],
   "source": [
    "import numpy as np\n",
    "import pandas as pd\n",
    "import seaborn as sns\n",
    "import matplotlib.pyplot as plt\n",
    "from sklearn.feature_selection import RFECV\n",
    "from sklearn.model_selection import train_test_split, GridSearchCV, KFold, RandomizedSearchCV\n",
    "from sklearn.preprocessing import StandardScaler\n",
    "from sklearn.pipeline import Pipeline\n",
    "from sklearn import metrics\n",
    "from sklearn.metrics import accuracy_score,r2_score\n",
    "import xgboost \n",
    "from xgboost import XGBRFRegressor, XGBRegressor\n",
    "from sklearn.metrics import make_scorer\n",
    "r2_score = make_scorer(r2_score)"
   ]
  },
  {
   "cell_type": "markdown",
   "metadata": {},
   "source": [
    "# In this note book the following steps are taken:\n",
    "1. Find the best hyper parameters for estimator\n",
    "2. Find the most important features by tunned random forest\n",
    "3. Comapring r2 of the tuuned full model and model with selected features\n",
    "4. Furthur step is finding tuned model with selected features and comparing the hyper parameters"
   ]
  },
  {
   "cell_type": "code",
   "execution_count": 20,
   "metadata": {},
   "outputs": [],
   "source": [
    "#import data\n",
    "Data=pd.read_csv(\"Winnipeg-Transfomed-Data.csv\")"
   ]
  },
  {
   "cell_type": "code",
   "execution_count": 21,
   "metadata": {},
   "outputs": [],
   "source": [
    "X = Data.iloc[:,:-1]\n",
    "y = Data.iloc[:,-1]"
   ]
  },
  {
   "cell_type": "code",
   "execution_count": 22,
   "metadata": {},
   "outputs": [],
   "source": [
    "#split test and training set. total number of data is 330 so the test size cannot be large\n",
    "np.random.seed(60)\n",
    "X_train, X_test, y_train, y_test = train_test_split(X, y, test_size = 0.3,\n",
    "                                                    random_state = 1000)"
   ]
  },
  {
   "cell_type": "code",
   "execution_count": 23,
   "metadata": {},
   "outputs": [],
   "source": [
    "regressors = {}\n",
    "regressors.update({\"XGBoost\": XGBRegressor(random_state=1000)})\n",
    "FEATURE_IMPORTANCE = {\"XGBoost\"}"
   ]
  },
  {
   "cell_type": "code",
   "execution_count": 24,
   "metadata": {},
   "outputs": [],
   "source": [
    "#Define range of hyperparameters for estimator\n",
    "np.random.seed(60)\n",
    "parameters = {}\n",
    "parameters.update({\"XGBoost\": { \n",
    "                                    \"regressor__learning_rate\":[0.001,0.01,0.02,0.1,0.25,0.5,1],\n",
    "                                    \"regressor__gamma\":[0.001,0.01,0.02,0.1,0.25,0.5,1],\n",
    "                                    \"regressor__max_depth\" : [1,2,3,4,5,6,7,8,9,10,11,12,13,14,15,16,17,18,19,20],\n",
    "                                    \"regressor__reg_alpha\":[0.001,0.01,0.02,0.1],\n",
    "                                    \"regressor__reg_lambda\":[0.001,0.01,0.02,0.1],\n",
    "                                    \"regressor__min_child_weight\":[0.001,0.01,0.02,0.1]}\n",
    "})"
   ]
  },
  {
   "cell_type": "code",
   "execution_count": 25,
   "metadata": {},
   "outputs": [
    {
     "data": {
      "image/png": "[encoded data removed]",
      "text/plain": [
       "<Figure size 792x648 with 2 Axes>"
      ]
     },
     "metadata": {},
     "output_type": "display_data"
    }
   ],
   "source": [
    "# Make correlation matrix\n",
    "corr_matrix = X_train.corr(method = \"spearman\").abs()\n",
    "\n",
    "# Draw the heatmap\n",
    "sns.set(font_scale = 1.0)\n",
    "f, ax = plt.subplots(figsize=(11, 9))\n",
    "sns.heatmap(corr_matrix, cmap= \"YlGnBu\", square=True, ax = ax)\n",
    "f.tight_layout()\n",
    "plt.savefig(\"correlation_matrix.png\", dpi = 1080)\n",
    "\n",
    "# Select upper triangle of matrix\n",
    "upper = corr_matrix.where(np.triu(np.ones(corr_matrix.shape), k = 1).astype(np.bool))\n",
    "\n",
    "# Find index of feature columns with correlation greater than 0.8\n",
    "to_drop = [column for column in upper.columns if any(upper[column] > 0.8)]\n",
    "\n",
    "# Drop features\n",
    "X_train = X_train.drop(to_drop, axis = 1)\n",
    "X_test = X_test.drop(to_drop, axis = 1)"
   ]
  },
  {
   "cell_type": "code",
   "execution_count": 26,
   "metadata": {},
   "outputs": [
    {
     "data": {
      "text/html": [
       "<div>\n",
       "<style scoped>\n",
       "    .dataframe tbody tr th:only-of-type {\n",
       "        vertical-align: middle;\n",
       "    }\n",
       "\n",
       "    .dataframe tbody tr th {\n",
       "        vertical-align: top;\n",
       "    }\n",
       "\n",
       "    .dataframe thead th {\n",
       "        text-align: right;\n",
       "    }\n",
       "</style>\n",
       "<table border=\"1\" class=\"dataframe\">\n",
       "  <thead>\n",
       "    <tr style=\"text-align: right;\">\n",
       "      <th></th>\n",
       "      <th>FailureMonth</th>\n",
       "      <th>Material</th>\n",
       "      <th>CoatingMaterial</th>\n",
       "      <th>Status</th>\n",
       "      <th>Length</th>\n",
       "      <th>Diameter</th>\n",
       "      <th>Age</th>\n",
       "      <th>PreviousRoF</th>\n",
       "    </tr>\n",
       "  </thead>\n",
       "  <tbody>\n",
       "    <tr>\n",
       "      <th>3475</th>\n",
       "      <td>2.827766</td>\n",
       "      <td>1.405469</td>\n",
       "      <td>3.998827</td>\n",
       "      <td>1</td>\n",
       "      <td>49.090</td>\n",
       "      <td>200</td>\n",
       "      <td>32</td>\n",
       "      <td>0.000000</td>\n",
       "    </tr>\n",
       "    <tr>\n",
       "      <th>1100</th>\n",
       "      <td>3.638857</td>\n",
       "      <td>1.405469</td>\n",
       "      <td>3.998827</td>\n",
       "      <td>1</td>\n",
       "      <td>7.400</td>\n",
       "      <td>150</td>\n",
       "      <td>62</td>\n",
       "      <td>0.000000</td>\n",
       "    </tr>\n",
       "    <tr>\n",
       "      <th>5612</th>\n",
       "      <td>10.968666</td>\n",
       "      <td>3.632219</td>\n",
       "      <td>3.998827</td>\n",
       "      <td>1</td>\n",
       "      <td>103.340</td>\n",
       "      <td>200</td>\n",
       "      <td>44</td>\n",
       "      <td>0.000220</td>\n",
       "    </tr>\n",
       "    <tr>\n",
       "      <th>6791</th>\n",
       "      <td>6.507938</td>\n",
       "      <td>3.632219</td>\n",
       "      <td>3.998827</td>\n",
       "      <td>1</td>\n",
       "      <td>48.720</td>\n",
       "      <td>200</td>\n",
       "      <td>53</td>\n",
       "      <td>0.000387</td>\n",
       "    </tr>\n",
       "    <tr>\n",
       "      <th>236</th>\n",
       "      <td>4.921510</td>\n",
       "      <td>1.405469</td>\n",
       "      <td>3.998827</td>\n",
       "      <td>1</td>\n",
       "      <td>32.660</td>\n",
       "      <td>150</td>\n",
       "      <td>113</td>\n",
       "      <td>0.000000</td>\n",
       "    </tr>\n",
       "    <tr>\n",
       "      <th>...</th>\n",
       "      <td>...</td>\n",
       "      <td>...</td>\n",
       "      <td>...</td>\n",
       "      <td>...</td>\n",
       "      <td>...</td>\n",
       "      <td>...</td>\n",
       "      <td>...</td>\n",
       "      <td>...</td>\n",
       "    </tr>\n",
       "    <tr>\n",
       "      <th>769</th>\n",
       "      <td>6.364757</td>\n",
       "      <td>1.405469</td>\n",
       "      <td>3.998827</td>\n",
       "      <td>1</td>\n",
       "      <td>9.490</td>\n",
       "      <td>350</td>\n",
       "      <td>86</td>\n",
       "      <td>0.000000</td>\n",
       "    </tr>\n",
       "    <tr>\n",
       "      <th>2398</th>\n",
       "      <td>7.596636</td>\n",
       "      <td>1.405469</td>\n",
       "      <td>3.998827</td>\n",
       "      <td>1</td>\n",
       "      <td>62.340</td>\n",
       "      <td>200</td>\n",
       "      <td>82</td>\n",
       "      <td>0.000391</td>\n",
       "    </tr>\n",
       "    <tr>\n",
       "      <th>3776</th>\n",
       "      <td>4.672663</td>\n",
       "      <td>1.405469</td>\n",
       "      <td>3.998827</td>\n",
       "      <td>1</td>\n",
       "      <td>167.150</td>\n",
       "      <td>150</td>\n",
       "      <td>64</td>\n",
       "      <td>0.000374</td>\n",
       "    </tr>\n",
       "    <tr>\n",
       "      <th>6215</th>\n",
       "      <td>4.320032</td>\n",
       "      <td>3.632219</td>\n",
       "      <td>3.998827</td>\n",
       "      <td>1</td>\n",
       "      <td>145.520</td>\n",
       "      <td>150</td>\n",
       "      <td>21</td>\n",
       "      <td>0.000000</td>\n",
       "    </tr>\n",
       "    <tr>\n",
       "      <th>4695</th>\n",
       "      <td>6.069678</td>\n",
       "      <td>1.405469</td>\n",
       "      <td>3.998827</td>\n",
       "      <td>1</td>\n",
       "      <td>86.592</td>\n",
       "      <td>150</td>\n",
       "      <td>61</td>\n",
       "      <td>0.000000</td>\n",
       "    </tr>\n",
       "  </tbody>\n",
       "</table>\n",
       "<p>6048 rows × 8 columns</p>\n",
       "</div>"
      ],
      "text/plain": [
       "      FailureMonth  Material  CoatingMaterial  Status   Length  Diameter  Age  \\\n",
       "3475      2.827766  1.405469         3.998827       1   49.090       200   32   \n",
       "1100      3.638857  1.405469         3.998827       1    7.400       150   62   \n",
       "5612     10.968666  3.632219         3.998827       1  103.340       200   44   \n",
       "6791      6.507938  3.632219         3.998827       1   48.720       200   53   \n",
       "236       4.921510  1.405469         3.998827       1   32.660       150  113   \n",
       "...            ...       ...              ...     ...      ...       ...  ...   \n",
       "769       6.364757  1.405469         3.998827       1    9.490       350   86   \n",
       "2398      7.596636  1.405469         3.998827       1   62.340       200   82   \n",
       "3776      4.672663  1.405469         3.998827       1  167.150       150   64   \n",
       "6215      4.320032  3.632219         3.998827       1  145.520       150   21   \n",
       "4695      6.069678  1.405469         3.998827       1   86.592       150   61   \n",
       "\n",
       "      PreviousRoF  \n",
       "3475     0.000000  \n",
       "1100     0.000000  \n",
       "5612     0.000220  \n",
       "6791     0.000387  \n",
       "236      0.000000  \n",
       "...           ...  \n",
       "769      0.000000  \n",
       "2398     0.000391  \n",
       "3776     0.000374  \n",
       "6215     0.000000  \n",
       "4695     0.000000  \n",
       "\n",
       "[6048 rows x 8 columns]"
      ]
     },
     "execution_count": 26,
     "metadata": {},
     "output_type": "execute_result"
    }
   ],
   "source": [
    "X_train"
   ]
  },
  {
   "cell_type": "code",
   "execution_count": 27,
   "metadata": {},
   "outputs": [],
   "source": [
    "FEATURE_IMPORTANCE = {\"XGBoost\"}\n",
    "selected_regressor = \"XGBoost\"\n",
    "regressor = regressors[selected_regressor]"
   ]
  },
  {
   "cell_type": "code",
   "execution_count": 28,
   "metadata": {},
   "outputs": [
    {
     "name": "stdout",
     "output_type": "stream",
     "text": [
      "Now tuning XGBoost.\n"
     ]
    }
   ],
   "source": [
    "results = {}\n",
    "for regressor_label, regressor in regressors.items():\n",
    "    # Print message to user\n",
    "    print(f\"Now tuning {regressor_label}.\")"
   ]
  },
  {
   "cell_type": "code",
   "execution_count": 29,
   "metadata": {},
   "outputs": [],
   "source": [
    "scaler = StandardScaler()\n",
    "steps = [(\"scaler\", scaler), (\"regressor\", regressor)]\n",
    "pipeline = Pipeline(steps = steps)"
   ]
  },
  {
   "cell_type": "code",
   "execution_count": 30,
   "metadata": {},
   "outputs": [],
   "source": [
    "#Define parameters that we want to use in gridsearch cv\n",
    "param_grid = parameters[selected_regressor]"
   ]
  },
  {
   "cell_type": "code",
   "execution_count": 31,
   "metadata": {},
   "outputs": [],
   "source": [
    "# Initialize GridSearch object for estimator\n",
    "gscv = RandomizedSearchCV(pipeline, param_grid, cv = 3,  n_jobs= -1, verbose = 1, scoring = r2_score, n_iter=20)"
   ]
  },
  {
   "cell_type": "code",
   "execution_count": 32,
   "metadata": {},
   "outputs": [
    {
     "name": "stdout",
     "output_type": "stream",
     "text": [
      "Now tuning XGBoost. Go grab a beer or something.\n",
      "Fitting 3 folds for each of 20 candidates, totalling 60 fits\n"
     ]
    },
    {
     "name": "stderr",
     "output_type": "stream",
     "text": [
      "[Parallel(n_jobs=-1)]: Using backend LokyBackend with 8 concurrent workers.\n",
      "[Parallel(n_jobs=-1)]: Done  34 tasks      | elapsed:   11.8s\n",
      "[Parallel(n_jobs=-1)]: Done  60 out of  60 | elapsed:   19.7s finished\n"
     ]
    },
    {
     "data": {
      "text/plain": [
       "RandomizedSearchCV(cv=3,\n",
       "                   estimator=Pipeline(steps=[('scaler', StandardScaler()),\n",
       "                                             ('regressor',\n",
       "                                              XGBRegressor(base_score=None,\n",
       "                                                           booster=None,\n",
       "                                                           colsample_bylevel=None,\n",
       "                                                           colsample_bynode=None,\n",
       "                                                           colsample_bytree=None,\n",
       "                                                           enable_categorical=False,\n",
       "                                                           gamma=None,\n",
       "                                                           gpu_id=None,\n",
       "                                                           importance_type=None,\n",
       "                                                           interaction_constraints=None,\n",
       "                                                           learning_rate=None,\n",
       "                                                           max_delta_step=None,\n",
       "                                                           max_depth=Non...\n",
       "                   param_distributions={'regressor__gamma': [0.001, 0.01, 0.02,\n",
       "                                                             0.1, 0.25, 0.5,\n",
       "                                                             1],\n",
       "                                        'regressor__learning_rate': [0.001,\n",
       "                                                                     0.01, 0.02,\n",
       "                                                                     0.1, 0.25,\n",
       "                                                                     0.5, 1],\n",
       "                                        'regressor__max_depth': [1, 2, 3, 4, 5,\n",
       "                                                                 6, 7, 8, 9, 10,\n",
       "                                                                 11, 12, 13, 14,\n",
       "                                                                 15, 16, 17, 18,\n",
       "                                                                 19, 20],\n",
       "                                        'regressor__min_child_weight': [0.001,\n",
       "                                                                        0.01,\n",
       "                                                                        0.02,\n",
       "                                                                        0.1],\n",
       "                                        'regressor__reg_alpha': [0.001, 0.01,\n",
       "                                                                 0.02, 0.1],\n",
       "                                        'regressor__reg_lambda': [0.001, 0.01,\n",
       "                                                                  0.02, 0.1]},\n",
       "                   scoring=make_scorer(r2_score), verbose=1)"
      ]
     },
     "execution_count": 32,
     "metadata": {},
     "output_type": "execute_result"
    }
   ],
   "source": [
    "# Fit gscv (Tunes estimator)\n",
    "print(f\"Now tuning {selected_regressor}. Go grab a beer or something.\")\n",
    "gscv.fit(X_train, np.ravel(y_train))  "
   ]
  },
  {
   "cell_type": "code",
   "execution_count": 33,
   "metadata": {},
   "outputs": [
    {
     "data": {
      "text/plain": [
       "{'regressor__reg_lambda': 0.01,\n",
       " 'regressor__reg_alpha': 0.01,\n",
       " 'regressor__min_child_weight': 0.1,\n",
       " 'regressor__max_depth': 2,\n",
       " 'regressor__learning_rate': 0.25,\n",
       " 'regressor__gamma': 0.001}"
      ]
     },
     "execution_count": 33,
     "metadata": {},
     "output_type": "execute_result"
    }
   ],
   "source": [
    "#Getting the best hyperparameters\n",
    "best_params = gscv.best_params_\n",
    "best_params"
   ]
  },
  {
   "cell_type": "code",
   "execution_count": 34,
   "metadata": {},
   "outputs": [
    {
     "data": {
      "text/plain": [
       "0.8906609458619172"
      ]
     },
     "execution_count": 34,
     "metadata": {},
     "output_type": "execute_result"
    }
   ],
   "source": [
    "#Getting the best score of model\n",
    "best_score = gscv.best_score_\n",
    "best_score"
   ]
  },
  {
   "cell_type": "code",
   "execution_count": 35,
   "metadata": {},
   "outputs": [
    {
     "data": {
      "text/plain": [
       "array([0.82880082, 0.95058652, 0.96577843, 0.97696025, 0.92173643])"
      ]
     },
     "execution_count": 35,
     "metadata": {},
     "output_type": "execute_result"
    }
   ],
   "source": [
    "#Check overfitting of the estimator\n",
    "from sklearn.model_selection import cross_val_score\n",
    "mod = XGBRegressor(gamma= 0.001,\n",
    "                   learning_rate= 0.25,\n",
    "                   max_depth=2, \n",
    "                   min_child_weight= 0.1, \n",
    "                   reg_alpha=0.01,\n",
    "                   reg_lambda = 0.01  ,random_state=10000)\n",
    "\n",
    "scores_test = cross_val_score(mod, X_test, y_test, scoring='r2', cv=5)\n",
    "\n",
    "scores_test"
   ]
  },
  {
   "cell_type": "code",
   "execution_count": 36,
   "metadata": {},
   "outputs": [
    {
     "data": {
      "text/plain": [
       "XGBRegressor(base_score=None, booster=None, colsample_bylevel=None,\n",
       "             colsample_bynode=None, colsample_bytree=None,\n",
       "             enable_categorical=False, gamma=0.001, gpu_id=None,\n",
       "             importance_type=None, interaction_constraints=None,\n",
       "             learning_rate=0.25, max_delta_step=None, max_depth=2,\n",
       "             min_child_weight=0.1, missing=nan, monotone_constraints=None,\n",
       "             n_estimators=100, n_jobs=None, num_parallel_tree=None,\n",
       "             predictor=None, random_state=1000, reg_alpha=0.01, reg_lambda=0.01,\n",
       "             scale_pos_weight=None, subsample=None, tree_method=None,\n",
       "             validate_parameters=None, verbosity=None)"
      ]
     },
     "execution_count": 36,
     "metadata": {},
     "output_type": "execute_result"
    }
   ],
   "source": [
    "tuned_params = {item[11:]: best_params[item] for item in best_params}\n",
    "regressor.set_params(**tuned_params)"
   ]
  },
  {
   "cell_type": "code",
   "execution_count": 38,
   "metadata": {},
   "outputs": [
    {
     "data": {
      "text/plain": [
       "{'classifier': XGBRegressor(base_score=0.5, booster='gbtree', colsample_bylevel=1,\n",
       "              colsample_bynode=1, colsample_bytree=1, enable_categorical=False,\n",
       "              gamma=0.001, gpu_id=-1, importance_type=None,\n",
       "              interaction_constraints='', learning_rate=0.25, max_delta_step=0,\n",
       "              max_depth=2, min_child_weight=0.1, missing=nan,\n",
       "              monotone_constraints='()', n_estimators=100, n_jobs=8,\n",
       "              num_parallel_tree=1, predictor='auto', random_state=10000,\n",
       "              reg_alpha=0.01, reg_lambda=0.01, scale_pos_weight=1, subsample=1,\n",
       "              tree_method='exact', validate_parameters=1, verbosity=None),\n",
       " 'Best Parameters': {'regressor__reg_lambda': 0.01,\n",
       "  'regressor__reg_alpha': 0.01,\n",
       "  'regressor__min_child_weight': 0.1,\n",
       "  'regressor__max_depth': 2,\n",
       "  'regressor__learning_rate': 0.25,\n",
       "  'regressor__gamma': 0.001},\n",
       " 'Training r2': 89.06609458619172,\n",
       " 'Test r2': 95.15939750663374}"
      ]
     },
     "execution_count": 38,
     "metadata": {},
     "output_type": "execute_result"
    }
   ],
   "source": [
    "#Find r2 of the model with all features (Model is tuned for all features)\n",
    "results={}\n",
    "model=regressor.set_params(gamma= 0.001,\n",
    "                   learning_rate= 0.25,\n",
    "                   max_depth=2, \n",
    "                   min_child_weight= 0.1, \n",
    "                   reg_alpha=0.01,\n",
    "                   reg_lambda = 0.01  ,random_state=10000)\n",
    "\n",
    "model.fit(X_train,y_train)\n",
    "y_pred = model.predict(X_test)\n",
    "R2 = metrics.r2_score(y_test, y_pred)\n",
    "results = {\"classifier\": model,\n",
    "              \"Best Parameters\": best_params,\n",
    "              \"Training r2\": best_score*100,\n",
    "              \"Test r2\": R2*100}\n",
    "results"
   ]
  },
  {
   "cell_type": "code",
   "execution_count": 39,
   "metadata": {},
   "outputs": [],
   "source": [
    "# Select Features using RFECV\n",
    "class PipelineRFE(Pipeline):\n",
    "    # Source: https://ramhiser.com/post/2018-03-25-feature-selection-with-scikit-learn-pipeline/\n",
    "    def fit(self, X, y=None, **fit_params):\n",
    "        super(PipelineRFE, self).fit(X, y, **fit_params)\n",
    "        self.feature_importances_ = self.steps[-1][-1].feature_importances_\n",
    "        return self"
   ]
  },
  {
   "cell_type": "code",
   "execution_count": 40,
   "metadata": {},
   "outputs": [
    {
     "name": "stdout",
     "output_type": "stream",
     "text": [
      "Fitting estimator with 8 features.\n",
      "Fitting estimator with 7 features.\n",
      "Fitting estimator with 6 features.\n",
      "Fitting estimator with 5 features.\n",
      "Fitting estimator with 4 features.\n",
      "Fitting estimator with 3 features.\n",
      "Fitting estimator with 2 features.\n",
      "Fitting estimator with 8 features.\n",
      "Fitting estimator with 7 features.\n",
      "Fitting estimator with 6 features.\n",
      "Fitting estimator with 5 features.\n",
      "Fitting estimator with 4 features.\n",
      "Fitting estimator with 3 features.\n",
      "Fitting estimator with 2 features.\n",
      "Fitting estimator with 8 features.\n",
      "Fitting estimator with 7 features.\n",
      "Fitting estimator with 6 features.\n",
      "Fitting estimator with 5 features.\n",
      "Fitting estimator with 4 features.\n",
      "Fitting estimator with 3 features.\n",
      "Fitting estimator with 2 features.\n",
      "Fitting estimator with 8 features.\n",
      "Fitting estimator with 7 features.\n",
      "Fitting estimator with 6 features.\n",
      "Fitting estimator with 5 features.\n",
      "Fitting estimator with 4 features.\n",
      "Fitting estimator with 3 features.\n",
      "Fitting estimator with 2 features.\n",
      "Fitting estimator with 8 features.\n",
      "Fitting estimator with 7 features.\n",
      "Fitting estimator with 6 features.\n",
      "Fitting estimator with 5 features.\n",
      "Fitting estimator with 4 features.\n",
      "Fitting estimator with 3 features.\n",
      "Fitting estimator with 2 features.\n",
      "Fitting estimator with 8 features.\n",
      "Fitting estimator with 7 features.\n",
      "Fitting estimator with 6 features.\n",
      "Fitting estimator with 5 features.\n",
      "Fitting estimator with 4 features.\n"
     ]
    }
   ],
   "source": [
    "steps = [(\"scaler\", scaler), (\"regressor\", regressor)]\n",
    "pipe = PipelineRFE(steps = steps)\n",
    "np.random.seed(60)\n",
    "\n",
    "# Initialize RFECV object\n",
    "feature_selector = RFECV(pipe, cv = 5, step = 1, verbose = 1)\n",
    "\n",
    "# Fit RFECV\n",
    "feature_selector.fit(X_train, np.ravel(y_train))\n",
    "\n",
    "# Get selected features\n",
    "feature_names = X_train.columns\n",
    "selected_features = feature_names[feature_selector.support_].tolist()"
   ]
  },
  {
   "cell_type": "code",
   "execution_count": 41,
   "metadata": {},
   "outputs": [
    {
     "data": {
      "image/png": "[encoded data removed]",
      "text/plain": [
       "<Figure size 936x468 with 1 Axes>"
      ]
     },
     "metadata": {},
     "output_type": "display_data"
    }
   ],
   "source": [
    "performance_curve = {\"Number of Features\": list(range(1, len(feature_names) + 1)),\n",
    "                    \"R2\": feature_selector.grid_scores_}\n",
    "performance_curve = pd.DataFrame(performance_curve)\n",
    "\n",
    "# Performance vs Number of Features\n",
    "# Set graph style\n",
    "sns.set(font_scale = 1.75)\n",
    "sns.set_style({\"axes.facecolor\": \"1.0\", \"axes.edgecolor\": \"0.85\", \"grid.color\": \"0.85\",\n",
    "               \"grid.linestyle\": \"-\", 'axes.labelcolor': '0.4', \"xtick.color\": \"0.4\",\n",
    "               'ytick.color': '0.4'})\n",
    "colors = sns.color_palette(\"RdYlGn\", 20)\n",
    "line_color = colors[3]\n",
    "marker_colors = colors[-1]\n",
    "\n",
    "# Plot\n",
    "f, ax = plt.subplots(figsize=(13, 6.5))\n",
    "sns.lineplot(x = \"Number of Features\", y = \"R2\", data = performance_curve,\n",
    "             color = line_color, lw = 4, ax = ax)\n",
    "sns.regplot(x = performance_curve[\"Number of Features\"], y = performance_curve[\"R2\"],\n",
    "            color = marker_colors, fit_reg = False, scatter_kws = {\"s\": 200}, ax = ax)\n",
    "\n",
    "# Axes limits\n",
    "plt.xlim(0.5, len(feature_names)+0.5)\n",
    "plt.ylim(0.60, 1)\n",
    "\n",
    "# Generate a bolded horizontal line at y = 0\n",
    "ax.axhline(y = 0.625, color = 'black', linewidth = 1.3, alpha = .7)\n",
    "\n",
    "# Turn frame off\n",
    "ax.set_frame_on(False)\n",
    "\n",
    "# Tight layout\n",
    "plt.tight_layout()"
   ]
  },
  {
   "cell_type": "code",
   "execution_count": 42,
   "metadata": {},
   "outputs": [],
   "source": [
    "#Define new training and test set based based on selected features by RFECV\n",
    "X_train_rfecv = X_train[selected_features]\n",
    "X_test_rfecv= X_test[selected_features]"
   ]
  },
  {
   "cell_type": "code",
   "execution_count": 43,
   "metadata": {},
   "outputs": [
    {
     "data": {
      "text/plain": [
       "XGBRegressor(base_score=0.5, booster='gbtree', colsample_bylevel=1,\n",
       "             colsample_bynode=1, colsample_bytree=1, enable_categorical=False,\n",
       "             gamma=0.001, gpu_id=-1, importance_type=None,\n",
       "             interaction_constraints='', learning_rate=0.25, max_delta_step=0,\n",
       "             max_depth=2, min_child_weight=0.1, missing=nan,\n",
       "             monotone_constraints='()', n_estimators=100, n_jobs=8,\n",
       "             num_parallel_tree=1, predictor='auto', random_state=10000,\n",
       "             reg_alpha=0.01, reg_lambda=0.01, scale_pos_weight=1, subsample=1,\n",
       "             tree_method='exact', validate_parameters=1, verbosity=None)"
      ]
     },
     "execution_count": 43,
     "metadata": {},
     "output_type": "execute_result"
    }
   ],
   "source": [
    "np.random.seed(60)\n",
    "regressor.fit(X_train_rfecv, np.ravel(y_train))"
   ]
  },
  {
   "cell_type": "code",
   "execution_count": 44,
   "metadata": {},
   "outputs": [
    {
     "data": {
      "text/html": [
       "<div>\n",
       "<style scoped>\n",
       "    .dataframe tbody tr th:only-of-type {\n",
       "        vertical-align: middle;\n",
       "    }\n",
       "\n",
       "    .dataframe tbody tr th {\n",
       "        vertical-align: top;\n",
       "    }\n",
       "\n",
       "    .dataframe thead th {\n",
       "        text-align: right;\n",
       "    }\n",
       "</style>\n",
       "<table border=\"1\" class=\"dataframe\">\n",
       "  <thead>\n",
       "    <tr style=\"text-align: right;\">\n",
       "      <th></th>\n",
       "      <th>Feature Label</th>\n",
       "      <th>Feature Importance</th>\n",
       "    </tr>\n",
       "  </thead>\n",
       "  <tbody>\n",
       "    <tr>\n",
       "      <th>0</th>\n",
       "      <td>Length</td>\n",
       "      <td>0.551284</td>\n",
       "    </tr>\n",
       "    <tr>\n",
       "      <th>2</th>\n",
       "      <td>PreviousRoF</td>\n",
       "      <td>0.399545</td>\n",
       "    </tr>\n",
       "    <tr>\n",
       "      <th>1</th>\n",
       "      <td>Age</td>\n",
       "      <td>0.049171</td>\n",
       "    </tr>\n",
       "  </tbody>\n",
       "</table>\n",
       "</div>"
      ],
      "text/plain": [
       "  Feature Label  Feature Importance\n",
       "0        Length            0.551284\n",
       "2   PreviousRoF            0.399545\n",
       "1           Age            0.049171"
      ]
     },
     "execution_count": 44,
     "metadata": {},
     "output_type": "execute_result"
    }
   ],
   "source": [
    "#Finding important features\n",
    "np.random.seed(60)\n",
    "feature_importance = pd.DataFrame(selected_features, columns = [\"Feature Label\"])\n",
    "feature_importance[\"Feature Importance\"] = regressor.feature_importances_\n",
    "feature_importance = feature_importance.sort_values(by=\"Feature Importance\", ascending=False)\n",
    "feature_importance"
   ]
  },
  {
   "cell_type": "code",
   "execution_count": 50,
   "metadata": {},
   "outputs": [],
   "source": [
    "# Initialize GridSearch object for model with selected features\n",
    "np.random.seed(60)\n",
    "gscv = RandomizedSearchCV(pipeline, param_grid, cv = 3,  n_jobs= -1, verbose = 1, scoring = r2_score, n_iter=50)"
   ]
  },
  {
   "cell_type": "code",
   "execution_count": 51,
   "metadata": {},
   "outputs": [
    {
     "name": "stdout",
     "output_type": "stream",
     "text": [
      "Fitting 3 folds for each of 50 candidates, totalling 150 fits\n"
     ]
    },
    {
     "name": "stderr",
     "output_type": "stream",
     "text": [
      "[Parallel(n_jobs=-1)]: Using backend LokyBackend with 8 concurrent workers.\n",
      "[Parallel(n_jobs=-1)]: Done  34 tasks      | elapsed:   10.5s\n",
      "[Parallel(n_jobs=-1)]: Done 150 out of 150 | elapsed:   52.5s finished\n"
     ]
    },
    {
     "data": {
      "text/plain": [
       "RandomizedSearchCV(cv=3,\n",
       "                   estimator=Pipeline(steps=[('scaler', StandardScaler()),\n",
       "                                             ('regressor',\n",
       "                                              XGBRegressor(base_score=0.5,\n",
       "                                                           booster='gbtree',\n",
       "                                                           colsample_bylevel=1,\n",
       "                                                           colsample_bynode=1,\n",
       "                                                           colsample_bytree=1,\n",
       "                                                           enable_categorical=False,\n",
       "                                                           gamma=0.001,\n",
       "                                                           gpu_id=-1,\n",
       "                                                           importance_type=None,\n",
       "                                                           interaction_constraints='',\n",
       "                                                           learning_rate=0.25,\n",
       "                                                           max_delta_step=0,\n",
       "                                                           max_depth=2,\n",
       "                                                           min_child_wei...\n",
       "                   param_distributions={'regressor__gamma': [0.001, 0.01, 0.02,\n",
       "                                                             0.1, 0.25, 0.5,\n",
       "                                                             1],\n",
       "                                        'regressor__learning_rate': [0.001,\n",
       "                                                                     0.01, 0.02,\n",
       "                                                                     0.1, 0.25,\n",
       "                                                                     0.5, 1],\n",
       "                                        'regressor__max_depth': [1, 2, 3, 4, 5,\n",
       "                                                                 6, 7, 8, 9, 10,\n",
       "                                                                 11, 12, 13, 14,\n",
       "                                                                 15, 16, 17, 18,\n",
       "                                                                 19, 20],\n",
       "                                        'regressor__min_child_weight': [0.001,\n",
       "                                                                        0.01,\n",
       "                                                                        0.02,\n",
       "                                                                        0.1],\n",
       "                                        'regressor__reg_alpha': [0.001, 0.01,\n",
       "                                                                 0.02, 0.1],\n",
       "                                        'regressor__reg_lambda': [0.001, 0.01,\n",
       "                                                                  0.02, 0.1]},\n",
       "                   scoring=make_scorer(r2_score), verbose=1)"
      ]
     },
     "execution_count": 51,
     "metadata": {},
     "output_type": "execute_result"
    }
   ],
   "source": [
    "#Tuning random forest classifier with selected features \n",
    "np.random.seed(60)\n",
    "gscv.fit(X_train_rfecv,y_train) "
   ]
  },
  {
   "cell_type": "code",
   "execution_count": 52,
   "metadata": {},
   "outputs": [
    {
     "data": {
      "text/plain": [
       "{'regressor__reg_lambda': 0.01,\n",
       " 'regressor__reg_alpha': 0.01,\n",
       " 'regressor__min_child_weight': 0.1,\n",
       " 'regressor__max_depth': 2,\n",
       " 'regressor__learning_rate': 0.25,\n",
       " 'regressor__gamma': 0.001}"
      ]
     },
     "execution_count": 52,
     "metadata": {},
     "output_type": "execute_result"
    }
   ],
   "source": [
    "#Getting the best parameters of model with selected features\n",
    "best_params = gscv.best_params_\n",
    "best_params"
   ]
  },
  {
   "cell_type": "code",
   "execution_count": 53,
   "metadata": {},
   "outputs": [
    {
     "data": {
      "text/plain": [
       "0.9241655851907153"
      ]
     },
     "execution_count": 53,
     "metadata": {},
     "output_type": "execute_result"
    }
   ],
   "source": [
    "#Getting the score of model with selected features\n",
    "best_score = gscv.best_score_\n",
    "best_score"
   ]
  },
  {
   "cell_type": "code",
   "execution_count": 55,
   "metadata": {},
   "outputs": [
    {
     "data": {
      "text/plain": [
       "array([0.83545292, 0.95058652, 0.97475509, 0.97530158, 0.94470558])"
      ]
     },
     "execution_count": 55,
     "metadata": {},
     "output_type": "execute_result"
    }
   ],
   "source": [
    "#Check overfitting of the  tuned model with selected features \n",
    "from sklearn.model_selection import cross_val_score\n",
    "mod = XGBRegressor(gamma= 0.001,\n",
    "                   learning_rate= 0.25,\n",
    "                   max_depth=2, \n",
    "                   min_child_weight= 0.1, \n",
    "                   reg_alpha=0.01, \n",
    "                   reg_lambda = 0.01  ,random_state=10000)\n",
    "\n",
    "scores_test = cross_val_score(mod, X_test_rfecv, y_test, scoring='r2', cv=5)\n",
    "\n",
    "scores_test"
   ]
  },
  {
   "cell_type": "code",
   "execution_count": 56,
   "metadata": {},
   "outputs": [
    {
     "data": {
      "text/plain": [
       "{'classifier': XGBRegressor(base_score=0.5, booster='gbtree', colsample_bylevel=1,\n",
       "              colsample_bynode=1, colsample_bytree=1, enable_categorical=False,\n",
       "              gamma=0.001, gpu_id=-1, importance_type=None,\n",
       "              interaction_constraints='', learning_rate=0.25, max_delta_step=0,\n",
       "              max_depth=2, min_child_weight=0.1, missing=nan,\n",
       "              monotone_constraints='()', n_estimators=100, n_jobs=8,\n",
       "              num_parallel_tree=1, predictor='auto', random_state=10000,\n",
       "              reg_alpha=0.01, reg_lambda=0.01, scale_pos_weight=1, subsample=1,\n",
       "              tree_method='exact', validate_parameters=1, verbosity=None),\n",
       " 'Best Parameters': {'regressor__reg_lambda': 0.01,\n",
       "  'regressor__reg_alpha': 0.01,\n",
       "  'regressor__min_child_weight': 0.1,\n",
       "  'regressor__max_depth': 2,\n",
       "  'regressor__learning_rate': 0.25,\n",
       "  'regressor__gamma': 0.001},\n",
       " 'Training r2': 92.41655851907153,\n",
       " 'Test r2': 95.70096733207023}"
      ]
     },
     "execution_count": 56,
     "metadata": {},
     "output_type": "execute_result"
    }
   ],
   "source": [
    "results={}\n",
    "model=regressor.set_params(gamma= 0.001,\n",
    "                   learning_rate= 0.25,\n",
    "                   max_depth=2, \n",
    "                   min_child_weight= 0.1, \n",
    "                   reg_alpha=0.01, \n",
    "                   reg_lambda = 0.01  ,random_state=10000)\n",
    "model.fit(X_train_rfecv,y_train)\n",
    "y_pred = model.predict(X_test_rfecv)\n",
    "R2 = metrics.r2_score(y_test, y_pred)\n",
    "results = {\"classifier\": model,\n",
    "              \"Best Parameters\": best_params,\n",
    "              \"Training r2\": best_score*100,\n",
    "              \"Test r2\": R2*100}\n",
    "results"
   ]
  },
  {
   "cell_type": "code",
   "execution_count": null,
   "metadata": {},
   "outputs": [],
   "source": []
  }
 ],
 "metadata": {
  "kernelspec": {
   "display_name": "Python 3",
   "language": "python",
   "name": "python3"
  },
  "language_info": {
   "codemirror_mode": {
    "name": "ipython",
    "version": 3
   },
   "file_extension": ".py",
   "mimetype": "text/x-python",
   "name": "python",
   "nbconvert_exporter": "python",
   "pygments_lexer": "ipython3",
   "version": "3.8.5"
  }
 },
 "nbformat": 4,
 "nbformat_minor": 4
}
